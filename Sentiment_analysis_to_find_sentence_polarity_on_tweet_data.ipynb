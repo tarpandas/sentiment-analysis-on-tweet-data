{
  "nbformat": 4,
  "nbformat_minor": 0,
  "metadata": {
    "colab": {
      "name": "Sentiment analysis to find sentence polarity on tweet data.ipynb",
      "provenance": [],
      "collapsed_sections": []
    },
    "kernelspec": {
      "display_name": "Python 3",
      "name": "python3"
    },
    "language_info": {
      "name": "python"
    }
  },
  "cells": [
    {
      "cell_type": "code",
      "metadata": {
        "colab": {
          "base_uri": "https://localhost:8080/",
          "height": 0
        },
        "id": "U4v-Dt5py36e",
        "outputId": "78124606-c4c9-43f9-8d32-5be22cd6109f"
      },
      "source": [
        "! pip install kaggle"
      ],
      "execution_count": 1,
      "outputs": [
        {
          "output_type": "stream",
          "name": "stdout",
          "text": [
            "Requirement already satisfied: kaggle in /usr/local/lib/python3.7/dist-packages (1.5.12)\n",
            "Requirement already satisfied: python-slugify in /usr/local/lib/python3.7/dist-packages (from kaggle) (5.0.2)\n",
            "Requirement already satisfied: certifi in /usr/local/lib/python3.7/dist-packages (from kaggle) (2021.10.8)\n",
            "Requirement already satisfied: urllib3 in /usr/local/lib/python3.7/dist-packages (from kaggle) (1.24.3)\n",
            "Requirement already satisfied: tqdm in /usr/local/lib/python3.7/dist-packages (from kaggle) (4.62.3)\n",
            "Requirement already satisfied: six>=1.10 in /usr/local/lib/python3.7/dist-packages (from kaggle) (1.15.0)\n",
            "Requirement already satisfied: requests in /usr/local/lib/python3.7/dist-packages (from kaggle) (2.23.0)\n",
            "Requirement already satisfied: python-dateutil in /usr/local/lib/python3.7/dist-packages (from kaggle) (2.8.2)\n",
            "Requirement already satisfied: text-unidecode>=1.3 in /usr/local/lib/python3.7/dist-packages (from python-slugify->kaggle) (1.3)\n",
            "Requirement already satisfied: chardet<4,>=3.0.2 in /usr/local/lib/python3.7/dist-packages (from requests->kaggle) (3.0.4)\n",
            "Requirement already satisfied: idna<3,>=2.5 in /usr/local/lib/python3.7/dist-packages (from requests->kaggle) (2.10)\n"
          ]
        }
      ]
    },
    {
      "cell_type": "code",
      "metadata": {
        "id": "cBCNs6Kc0U74"
      },
      "source": [
        "! mkdir ~/.kaggle"
      ],
      "execution_count": 2,
      "outputs": []
    },
    {
      "cell_type": "code",
      "metadata": {
        "id": "HSuKq7CXzR3x"
      },
      "source": [
        "! cp kaggle.json ~/.kaggle/"
      ],
      "execution_count": 3,
      "outputs": []
    },
    {
      "cell_type": "code",
      "metadata": {
        "id": "UZ8_HauAzUgf"
      },
      "source": [
        "! chmod 600 ~/.kaggle/kaggle.json"
      ],
      "execution_count": 4,
      "outputs": []
    },
    {
      "cell_type": "code",
      "metadata": {
        "colab": {
          "base_uri": "https://localhost:8080/",
          "height": 0
        },
        "id": "7qv2ynA7zXL4",
        "outputId": "b64b33e9-bfcc-4ee8-9b73-0c592aebc7a2"
      },
      "source": [
        "! kaggle datasets download kazanova/sentiment140"
      ],
      "execution_count": 5,
      "outputs": [
        {
          "output_type": "stream",
          "name": "stdout",
          "text": [
            "Downloading sentiment140.zip to /content\n",
            " 79% 64.0M/80.9M [00:00<00:00, 78.0MB/s]\n",
            "100% 80.9M/80.9M [00:00<00:00, 150MB/s] \n"
          ]
        }
      ]
    },
    {
      "cell_type": "code",
      "metadata": {
        "colab": {
          "base_uri": "https://localhost:8080/",
          "height": 0
        },
        "id": "1WJcda4fzwTR",
        "outputId": "250feda1-d14c-4f58-a314-4dd712d119ed"
      },
      "source": [
        "! unzip sentiment140.zip"
      ],
      "execution_count": 6,
      "outputs": [
        {
          "output_type": "stream",
          "name": "stdout",
          "text": [
            "Archive:  sentiment140.zip\n",
            "  inflating: training.1600000.processed.noemoticon.csv  \n"
          ]
        }
      ]
    },
    {
      "cell_type": "code",
      "metadata": {
        "id": "5Sp7VmGQ0hYB"
      },
      "source": [
        "#importing libraries\n",
        "\n",
        "import pandas as pd\n",
        "import numpy as np\n",
        "import re\n",
        "import string\n",
        "\n",
        "from nltk.corpus import stopwords\n",
        "from nltk.tokenize import word_tokenize\n",
        "from nltk.stem import PorterStemmer\n",
        "from nltk.stem import WordNetLemmatizer\n",
        "from sklearn.model_selection import train_test_split\n",
        "\n",
        "from sklearn.metrics import confusion_matrix, accuracy_score"
      ],
      "execution_count": 7,
      "outputs": []
    },
    {
      "cell_type": "code",
      "metadata": {
        "colab": {
          "base_uri": "https://localhost:8080/",
          "height": 0
        },
        "id": "ZDSrdhSB2_WX",
        "outputId": "ce998303-9862-49b2-ceda-3fe4523c661d"
      },
      "source": [
        "import nltk\n",
        "nltk.download('stopwords')\n",
        "nltk.download('punkt')\n",
        "stopwords = stopwords.words('english')"
      ],
      "execution_count": 8,
      "outputs": [
        {
          "output_type": "stream",
          "name": "stdout",
          "text": [
            "[nltk_data] Downloading package stopwords to /root/nltk_data...\n",
            "[nltk_data]   Unzipping corpora/stopwords.zip.\n",
            "[nltk_data] Downloading package punkt to /root/nltk_data...\n",
            "[nltk_data]   Unzipping tokenizers/punkt.zip.\n"
          ]
        }
      ]
    },
    {
      "cell_type": "code",
      "metadata": {
        "id": "y74N4OO83KPY"
      },
      "source": [
        "cols = ['target','id','date','flag','user','text']\n",
        "df = pd.read_csv('/content/training.1600000.processed.noemoticon.csv',encoding='ISO-8859-1' ,names=cols)"
      ],
      "execution_count": 9,
      "outputs": []
    },
    {
      "cell_type": "code",
      "source": [
        "df['target'].value_counts()"
      ],
      "metadata": {
        "colab": {
          "base_uri": "https://localhost:8080/",
          "height": 0
        },
        "id": "YmKGqx7eZuzO",
        "outputId": "ec9f23d4-6721-4471-e775-b9cabfb21886"
      },
      "execution_count": 10,
      "outputs": [
        {
          "output_type": "execute_result",
          "data": {
            "text/plain": [
              "0    800000\n",
              "4    800000\n",
              "Name: target, dtype: int64"
            ]
          },
          "metadata": {},
          "execution_count": 10
        }
      ]
    },
    {
      "cell_type": "code",
      "source": [
        "df = df.loc[795001:805000,:]\n",
        "df"
      ],
      "metadata": {
        "id": "9apDdH-pE0jK",
        "colab": {
          "base_uri": "https://localhost:8080/",
          "height": 419
        },
        "outputId": "00e9850a-ab70-42a5-9d16-982c52a7b294"
      },
      "execution_count": 11,
      "outputs": [
        {
          "output_type": "execute_result",
          "data": {
            "text/html": [
              "\n",
              "  <div id=\"df-435f732a-d332-4d39-b031-0313b8a338fa\">\n",
              "    <div class=\"colab-df-container\">\n",
              "      <div>\n",
              "<style scoped>\n",
              "    .dataframe tbody tr th:only-of-type {\n",
              "        vertical-align: middle;\n",
              "    }\n",
              "\n",
              "    .dataframe tbody tr th {\n",
              "        vertical-align: top;\n",
              "    }\n",
              "\n",
              "    .dataframe thead th {\n",
              "        text-align: right;\n",
              "    }\n",
              "</style>\n",
              "<table border=\"1\" class=\"dataframe\">\n",
              "  <thead>\n",
              "    <tr style=\"text-align: right;\">\n",
              "      <th></th>\n",
              "      <th>target</th>\n",
              "      <th>id</th>\n",
              "      <th>date</th>\n",
              "      <th>flag</th>\n",
              "      <th>user</th>\n",
              "      <th>text</th>\n",
              "    </tr>\n",
              "  </thead>\n",
              "  <tbody>\n",
              "    <tr>\n",
              "      <th>795001</th>\n",
              "      <td>0</td>\n",
              "      <td>2327193206</td>\n",
              "      <td>Thu Jun 25 08:02:16 PDT 2009</td>\n",
              "      <td>NO_QUERY</td>\n",
              "      <td>djcampos</td>\n",
              "      <td>Blah 5am still up  daang I got deep problems</td>\n",
              "    </tr>\n",
              "    <tr>\n",
              "      <th>795002</th>\n",
              "      <td>0</td>\n",
              "      <td>2327193455</td>\n",
              "      <td>Thu Jun 25 08:02:17 PDT 2009</td>\n",
              "      <td>NO_QUERY</td>\n",
              "      <td>RKF</td>\n",
              "      <td>@jenspeedy I would suggest avoiding 360 Living...</td>\n",
              "    </tr>\n",
              "    <tr>\n",
              "      <th>795003</th>\n",
              "      <td>0</td>\n",
              "      <td>2327193641</td>\n",
              "      <td>Thu Jun 25 08:02:18 PDT 2009</td>\n",
              "      <td>NO_QUERY</td>\n",
              "      <td>AnaHertz</td>\n",
              "      <td>@alexbroun I didn't convince myself I was fat ...</td>\n",
              "    </tr>\n",
              "    <tr>\n",
              "      <th>795004</th>\n",
              "      <td>0</td>\n",
              "      <td>2327193806</td>\n",
              "      <td>Thu Jun 25 08:02:18 PDT 2009</td>\n",
              "      <td>NO_QUERY</td>\n",
              "      <td>yenafer</td>\n",
              "      <td>@spotzle @jstarrh check on sunscreen, snacks, ...</td>\n",
              "    </tr>\n",
              "    <tr>\n",
              "      <th>795005</th>\n",
              "      <td>0</td>\n",
              "      <td>2327193864</td>\n",
              "      <td>Thu Jun 25 08:02:19 PDT 2009</td>\n",
              "      <td>NO_QUERY</td>\n",
              "      <td>eppoponotumus</td>\n",
              "      <td>im sitting alone at TTE myself without my two ...</td>\n",
              "    </tr>\n",
              "    <tr>\n",
              "      <th>...</th>\n",
              "      <td>...</td>\n",
              "      <td>...</td>\n",
              "      <td>...</td>\n",
              "      <td>...</td>\n",
              "      <td>...</td>\n",
              "      <td>...</td>\n",
              "    </tr>\n",
              "    <tr>\n",
              "      <th>804996</th>\n",
              "      <td>4</td>\n",
              "      <td>1468599688</td>\n",
              "      <td>Tue Apr 07 02:39:04 PDT 2009</td>\n",
              "      <td>NO_QUERY</td>\n",
              "      <td>joscelinyeo</td>\n",
              "      <td>@ickleoriental hahahha.. U obviously don't hv ...</td>\n",
              "    </tr>\n",
              "    <tr>\n",
              "      <th>804997</th>\n",
              "      <td>4</td>\n",
              "      <td>1468599702</td>\n",
              "      <td>Tue Apr 07 02:39:04 PDT 2009</td>\n",
              "      <td>NO_QUERY</td>\n",
              "      <td>serengetisunset</td>\n",
              "      <td>@juliekoh It's an internet term, but it's spil...</td>\n",
              "    </tr>\n",
              "    <tr>\n",
              "      <th>804998</th>\n",
              "      <td>4</td>\n",
              "      <td>1468599765</td>\n",
              "      <td>Tue Apr 07 02:39:06 PDT 2009</td>\n",
              "      <td>NO_QUERY</td>\n",
              "      <td>broombeck</td>\n",
              "      <td>new day.... NEW TRACK!!!!</td>\n",
              "    </tr>\n",
              "    <tr>\n",
              "      <th>804999</th>\n",
              "      <td>4</td>\n",
              "      <td>1468599793</td>\n",
              "      <td>Tue Apr 07 02:39:07 PDT 2009</td>\n",
              "      <td>NO_QUERY</td>\n",
              "      <td>aptronym</td>\n",
              "      <td>@foodieguide Okay we need to have a competitio...</td>\n",
              "    </tr>\n",
              "    <tr>\n",
              "      <th>805000</th>\n",
              "      <td>4</td>\n",
              "      <td>1468599816</td>\n",
              "      <td>Tue Apr 07 02:39:06 PDT 2009</td>\n",
              "      <td>NO_QUERY</td>\n",
              "      <td>hybrid756</td>\n",
              "      <td>@PerfectElement noooooooo i wish, I just saw i...</td>\n",
              "    </tr>\n",
              "  </tbody>\n",
              "</table>\n",
              "<p>10000 rows × 6 columns</p>\n",
              "</div>\n",
              "      <button class=\"colab-df-convert\" onclick=\"convertToInteractive('df-435f732a-d332-4d39-b031-0313b8a338fa')\"\n",
              "              title=\"Convert this dataframe to an interactive table.\"\n",
              "              style=\"display:none;\">\n",
              "        \n",
              "  <svg xmlns=\"http://www.w3.org/2000/svg\" height=\"24px\"viewBox=\"0 0 24 24\"\n",
              "       width=\"24px\">\n",
              "    <path d=\"M0 0h24v24H0V0z\" fill=\"none\"/>\n",
              "    <path d=\"M18.56 5.44l.94 2.06.94-2.06 2.06-.94-2.06-.94-.94-2.06-.94 2.06-2.06.94zm-11 1L8.5 8.5l.94-2.06 2.06-.94-2.06-.94L8.5 2.5l-.94 2.06-2.06.94zm10 10l.94 2.06.94-2.06 2.06-.94-2.06-.94-.94-2.06-.94 2.06-2.06.94z\"/><path d=\"M17.41 7.96l-1.37-1.37c-.4-.4-.92-.59-1.43-.59-.52 0-1.04.2-1.43.59L10.3 9.45l-7.72 7.72c-.78.78-.78 2.05 0 2.83L4 21.41c.39.39.9.59 1.41.59.51 0 1.02-.2 1.41-.59l7.78-7.78 2.81-2.81c.8-.78.8-2.07 0-2.86zM5.41 20L4 18.59l7.72-7.72 1.47 1.35L5.41 20z\"/>\n",
              "  </svg>\n",
              "      </button>\n",
              "      \n",
              "  <style>\n",
              "    .colab-df-container {\n",
              "      display:flex;\n",
              "      flex-wrap:wrap;\n",
              "      gap: 12px;\n",
              "    }\n",
              "\n",
              "    .colab-df-convert {\n",
              "      background-color: #E8F0FE;\n",
              "      border: none;\n",
              "      border-radius: 50%;\n",
              "      cursor: pointer;\n",
              "      display: none;\n",
              "      fill: #1967D2;\n",
              "      height: 32px;\n",
              "      padding: 0 0 0 0;\n",
              "      width: 32px;\n",
              "    }\n",
              "\n",
              "    .colab-df-convert:hover {\n",
              "      background-color: #E2EBFA;\n",
              "      box-shadow: 0px 1px 2px rgba(60, 64, 67, 0.3), 0px 1px 3px 1px rgba(60, 64, 67, 0.15);\n",
              "      fill: #174EA6;\n",
              "    }\n",
              "\n",
              "    [theme=dark] .colab-df-convert {\n",
              "      background-color: #3B4455;\n",
              "      fill: #D2E3FC;\n",
              "    }\n",
              "\n",
              "    [theme=dark] .colab-df-convert:hover {\n",
              "      background-color: #434B5C;\n",
              "      box-shadow: 0px 1px 3px 1px rgba(0, 0, 0, 0.15);\n",
              "      filter: drop-shadow(0px 1px 2px rgba(0, 0, 0, 0.3));\n",
              "      fill: #FFFFFF;\n",
              "    }\n",
              "  </style>\n",
              "\n",
              "      <script>\n",
              "        const buttonEl =\n",
              "          document.querySelector('#df-435f732a-d332-4d39-b031-0313b8a338fa button.colab-df-convert');\n",
              "        buttonEl.style.display =\n",
              "          google.colab.kernel.accessAllowed ? 'block' : 'none';\n",
              "\n",
              "        async function convertToInteractive(key) {\n",
              "          const element = document.querySelector('#df-435f732a-d332-4d39-b031-0313b8a338fa');\n",
              "          const dataTable =\n",
              "            await google.colab.kernel.invokeFunction('convertToInteractive',\n",
              "                                                     [key], {});\n",
              "          if (!dataTable) return;\n",
              "\n",
              "          const docLinkHtml = 'Like what you see? Visit the ' +\n",
              "            '<a target=\"_blank\" href=https://colab.research.google.com/notebooks/data_table.ipynb>data table notebook</a>'\n",
              "            + ' to learn more about interactive tables.';\n",
              "          element.innerHTML = '';\n",
              "          dataTable['output_type'] = 'display_data';\n",
              "          await google.colab.output.renderOutput(dataTable, element);\n",
              "          const docLink = document.createElement('div');\n",
              "          docLink.innerHTML = docLinkHtml;\n",
              "          element.appendChild(docLink);\n",
              "        }\n",
              "      </script>\n",
              "    </div>\n",
              "  </div>\n",
              "  "
            ],
            "text/plain": [
              "        target  ...                                               text\n",
              "795001       0  ...       Blah 5am still up  daang I got deep problems\n",
              "795002       0  ...  @jenspeedy I would suggest avoiding 360 Living...\n",
              "795003       0  ...  @alexbroun I didn't convince myself I was fat ...\n",
              "795004       0  ...  @spotzle @jstarrh check on sunscreen, snacks, ...\n",
              "795005       0  ...  im sitting alone at TTE myself without my two ...\n",
              "...        ...  ...                                                ...\n",
              "804996       4  ...  @ickleoriental hahahha.. U obviously don't hv ...\n",
              "804997       4  ...  @juliekoh It's an internet term, but it's spil...\n",
              "804998       4  ...                         new day.... NEW TRACK!!!! \n",
              "804999       4  ...  @foodieguide Okay we need to have a competitio...\n",
              "805000       4  ...  @PerfectElement noooooooo i wish, I just saw i...\n",
              "\n",
              "[10000 rows x 6 columns]"
            ]
          },
          "metadata": {},
          "execution_count": 11
        }
      ]
    },
    {
      "cell_type": "code",
      "metadata": {
        "colab": {
          "base_uri": "https://localhost:8080/",
          "height": 331
        },
        "id": "8Y3FN4IB1SvH",
        "outputId": "fdefb41d-3397-49b8-c549-8420044e6557"
      },
      "source": [
        "import matplotlib.pyplot as plt\n",
        "import seaborn as sns\n",
        "sns.countplot(data=df,x='target')\n",
        "plt.xticks(ticks=[0,1],labels=['Negative','Positive'])"
      ],
      "execution_count": 12,
      "outputs": [
        {
          "output_type": "execute_result",
          "data": {
            "text/plain": [
              "([<matplotlib.axis.XTick at 0x7f30a0dd5590>,\n",
              "  <matplotlib.axis.XTick at 0x7f30a066a410>],\n",
              " [Text(0, 0, 'Negative'), Text(0, 0, 'Positive')])"
            ]
          },
          "metadata": {},
          "execution_count": 12
        },
        {
          "output_type": "display_data",
          "data": {
            "image/png": "[encoded data removed]",
            "text/plain": [
              "<Figure size 432x288 with 1 Axes>"
            ]
          },
          "metadata": {
            "needs_background": "light"
          }
        }
      ]
    },
    {
      "cell_type": "code",
      "metadata": {
        "colab": {
          "base_uri": "https://localhost:8080/",
          "height": 204
        },
        "id": "wlcfQ67P3ZUJ",
        "outputId": "1b9f08f2-f409-40d5-e909-544d5fb4764a"
      },
      "source": [
        "df.head()"
      ],
      "execution_count": 13,
      "outputs": [
        {
          "output_type": "execute_result",
          "data": {
            "text/html": [
              "\n",
              "  <div id=\"df-1d3436b8-e7f7-4745-8b2b-63d6f1c59f82\">\n",
              "    <div class=\"colab-df-container\">\n",
              "      <div>\n",
              "<style scoped>\n",
              "    .dataframe tbody tr th:only-of-type {\n",
              "        vertical-align: middle;\n",
              "    }\n",
              "\n",
              "    .dataframe tbody tr th {\n",
              "        vertical-align: top;\n",
              "    }\n",
              "\n",
              "    .dataframe thead th {\n",
              "        text-align: right;\n",
              "    }\n",
              "</style>\n",
              "<table border=\"1\" class=\"dataframe\">\n",
              "  <thead>\n",
              "    <tr style=\"text-align: right;\">\n",
              "      <th></th>\n",
              "      <th>target</th>\n",
              "      <th>id</th>\n",
              "      <th>date</th>\n",
              "      <th>flag</th>\n",
              "      <th>user</th>\n",
              "      <th>text</th>\n",
              "    </tr>\n",
              "  </thead>\n",
              "  <tbody>\n",
              "    <tr>\n",
              "      <th>795001</th>\n",
              "      <td>0</td>\n",
              "      <td>2327193206</td>\n",
              "      <td>Thu Jun 25 08:02:16 PDT 2009</td>\n",
              "      <td>NO_QUERY</td>\n",
              "      <td>djcampos</td>\n",
              "      <td>Blah 5am still up  daang I got deep problems</td>\n",
              "    </tr>\n",
              "    <tr>\n",
              "      <th>795002</th>\n",
              "      <td>0</td>\n",
              "      <td>2327193455</td>\n",
              "      <td>Thu Jun 25 08:02:17 PDT 2009</td>\n",
              "      <td>NO_QUERY</td>\n",
              "      <td>RKF</td>\n",
              "      <td>@jenspeedy I would suggest avoiding 360 Living...</td>\n",
              "    </tr>\n",
              "    <tr>\n",
              "      <th>795003</th>\n",
              "      <td>0</td>\n",
              "      <td>2327193641</td>\n",
              "      <td>Thu Jun 25 08:02:18 PDT 2009</td>\n",
              "      <td>NO_QUERY</td>\n",
              "      <td>AnaHertz</td>\n",
              "      <td>@alexbroun I didn't convince myself I was fat ...</td>\n",
              "    </tr>\n",
              "    <tr>\n",
              "      <th>795004</th>\n",
              "      <td>0</td>\n",
              "      <td>2327193806</td>\n",
              "      <td>Thu Jun 25 08:02:18 PDT 2009</td>\n",
              "      <td>NO_QUERY</td>\n",
              "      <td>yenafer</td>\n",
              "      <td>@spotzle @jstarrh check on sunscreen, snacks, ...</td>\n",
              "    </tr>\n",
              "    <tr>\n",
              "      <th>795005</th>\n",
              "      <td>0</td>\n",
              "      <td>2327193864</td>\n",
              "      <td>Thu Jun 25 08:02:19 PDT 2009</td>\n",
              "      <td>NO_QUERY</td>\n",
              "      <td>eppoponotumus</td>\n",
              "      <td>im sitting alone at TTE myself without my two ...</td>\n",
              "    </tr>\n",
              "  </tbody>\n",
              "</table>\n",
              "</div>\n",
              "      <button class=\"colab-df-convert\" onclick=\"convertToInteractive('df-1d3436b8-e7f7-4745-8b2b-63d6f1c59f82')\"\n",
              "              title=\"Convert this dataframe to an interactive table.\"\n",
              "              style=\"display:none;\">\n",
              "        \n",
              "  <svg xmlns=\"http://www.w3.org/2000/svg\" height=\"24px\"viewBox=\"0 0 24 24\"\n",
              "       width=\"24px\">\n",
              "    <path d=\"M0 0h24v24H0V0z\" fill=\"none\"/>\n",
              "    <path d=\"M18.56 5.44l.94 2.06.94-2.06 2.06-.94-2.06-.94-.94-2.06-.94 2.06-2.06.94zm-11 1L8.5 8.5l.94-2.06 2.06-.94-2.06-.94L8.5 2.5l-.94 2.06-2.06.94zm10 10l.94 2.06.94-2.06 2.06-.94-2.06-.94-.94-2.06-.94 2.06-2.06.94z\"/><path d=\"M17.41 7.96l-1.37-1.37c-.4-.4-.92-.59-1.43-.59-.52 0-1.04.2-1.43.59L10.3 9.45l-7.72 7.72c-.78.78-.78 2.05 0 2.83L4 21.41c.39.39.9.59 1.41.59.51 0 1.02-.2 1.41-.59l7.78-7.78 2.81-2.81c.8-.78.8-2.07 0-2.86zM5.41 20L4 18.59l7.72-7.72 1.47 1.35L5.41 20z\"/>\n",
              "  </svg>\n",
              "      </button>\n",
              "      \n",
              "  <style>\n",
              "    .colab-df-container {\n",
              "      display:flex;\n",
              "      flex-wrap:wrap;\n",
              "      gap: 12px;\n",
              "    }\n",
              "\n",
              "    .colab-df-convert {\n",
              "      background-color: #E8F0FE;\n",
              "      border: none;\n",
              "      border-radius: 50%;\n",
              "      cursor: pointer;\n",
              "      display: none;\n",
              "      fill: #1967D2;\n",
              "      height: 32px;\n",
              "      padding: 0 0 0 0;\n",
              "      width: 32px;\n",
              "    }\n",
              "\n",
              "    .colab-df-convert:hover {\n",
              "      background-color: #E2EBFA;\n",
              "      box-shadow: 0px 1px 2px rgba(60, 64, 67, 0.3), 0px 1px 3px 1px rgba(60, 64, 67, 0.15);\n",
              "      fill: #174EA6;\n",
              "    }\n",
              "\n",
              "    [theme=dark] .colab-df-convert {\n",
              "      background-color: #3B4455;\n",
              "      fill: #D2E3FC;\n",
              "    }\n",
              "\n",
              "    [theme=dark] .colab-df-convert:hover {\n",
              "      background-color: #434B5C;\n",
              "      box-shadow: 0px 1px 3px 1px rgba(0, 0, 0, 0.15);\n",
              "      filter: drop-shadow(0px 1px 2px rgba(0, 0, 0, 0.3));\n",
              "      fill: #FFFFFF;\n",
              "    }\n",
              "  </style>\n",
              "\n",
              "      <script>\n",
              "        const buttonEl =\n",
              "          document.querySelector('#df-1d3436b8-e7f7-4745-8b2b-63d6f1c59f82 button.colab-df-convert');\n",
              "        buttonEl.style.display =\n",
              "          google.colab.kernel.accessAllowed ? 'block' : 'none';\n",
              "\n",
              "        async function convertToInteractive(key) {\n",
              "          const element = document.querySelector('#df-1d3436b8-e7f7-4745-8b2b-63d6f1c59f82');\n",
              "          const dataTable =\n",
              "            await google.colab.kernel.invokeFunction('convertToInteractive',\n",
              "                                                     [key], {});\n",
              "          if (!dataTable) return;\n",
              "\n",
              "          const docLinkHtml = 'Like what you see? Visit the ' +\n",
              "            '<a target=\"_blank\" href=https://colab.research.google.com/notebooks/data_table.ipynb>data table notebook</a>'\n",
              "            + ' to learn more about interactive tables.';\n",
              "          element.innerHTML = '';\n",
              "          dataTable['output_type'] = 'display_data';\n",
              "          await google.colab.output.renderOutput(dataTable, element);\n",
              "          const docLink = document.createElement('div');\n",
              "          docLink.innerHTML = docLinkHtml;\n",
              "          element.appendChild(docLink);\n",
              "        }\n",
              "      </script>\n",
              "    </div>\n",
              "  </div>\n",
              "  "
            ],
            "text/plain": [
              "        target  ...                                               text\n",
              "795001       0  ...       Blah 5am still up  daang I got deep problems\n",
              "795002       0  ...  @jenspeedy I would suggest avoiding 360 Living...\n",
              "795003       0  ...  @alexbroun I didn't convince myself I was fat ...\n",
              "795004       0  ...  @spotzle @jstarrh check on sunscreen, snacks, ...\n",
              "795005       0  ...  im sitting alone at TTE myself without my two ...\n",
              "\n",
              "[5 rows x 6 columns]"
            ]
          },
          "metadata": {},
          "execution_count": 13
        }
      ]
    },
    {
      "cell_type": "code",
      "metadata": {
        "colab": {
          "base_uri": "https://localhost:8080/",
          "height": 0
        },
        "id": "2vuy0pxgs7ml",
        "outputId": "f299abf7-fb5c-4160-9760-8dae937add7a"
      },
      "source": [
        "df.shape"
      ],
      "execution_count": 14,
      "outputs": [
        {
          "output_type": "execute_result",
          "data": {
            "text/plain": [
              "(10000, 6)"
            ]
          },
          "metadata": {},
          "execution_count": 14
        }
      ]
    },
    {
      "cell_type": "code",
      "metadata": {
        "colab": {
          "base_uri": "https://localhost:8080/",
          "height": 0
        },
        "id": "y-IcyuoL3duA",
        "outputId": "75e96d01-eaae-4def-e38f-2122b3977a8f"
      },
      "source": [
        "df.isnull().any()"
      ],
      "execution_count": 15,
      "outputs": [
        {
          "output_type": "execute_result",
          "data": {
            "text/plain": [
              "target    False\n",
              "id        False\n",
              "date      False\n",
              "flag      False\n",
              "user      False\n",
              "text      False\n",
              "dtype: bool"
            ]
          },
          "metadata": {},
          "execution_count": 15
        }
      ]
    },
    {
      "cell_type": "code",
      "metadata": {
        "colab": {
          "base_uri": "https://localhost:8080/",
          "height": 204
        },
        "id": "MwvHMisa3oHw",
        "outputId": "54f4fd19-3659-419a-9fdb-a075d8681c5b"
      },
      "source": [
        "df = df[['target','text']]\n",
        "df.head()"
      ],
      "execution_count": 16,
      "outputs": [
        {
          "output_type": "execute_result",
          "data": {
            "text/html": [
              "\n",
              "  <div id=\"df-0c109156-fc8a-4fbc-aea4-c8c23272b35f\">\n",
              "    <div class=\"colab-df-container\">\n",
              "      <div>\n",
              "<style scoped>\n",
              "    .dataframe tbody tr th:only-of-type {\n",
              "        vertical-align: middle;\n",
              "    }\n",
              "\n",
              "    .dataframe tbody tr th {\n",
              "        vertical-align: top;\n",
              "    }\n",
              "\n",
              "    .dataframe thead th {\n",
              "        text-align: right;\n",
              "    }\n",
              "</style>\n",
              "<table border=\"1\" class=\"dataframe\">\n",
              "  <thead>\n",
              "    <tr style=\"text-align: right;\">\n",
              "      <th></th>\n",
              "      <th>target</th>\n",
              "      <th>text</th>\n",
              "    </tr>\n",
              "  </thead>\n",
              "  <tbody>\n",
              "    <tr>\n",
              "      <th>795001</th>\n",
              "      <td>0</td>\n",
              "      <td>Blah 5am still up  daang I got deep problems</td>\n",
              "    </tr>\n",
              "    <tr>\n",
              "      <th>795002</th>\n",
              "      <td>0</td>\n",
              "      <td>@jenspeedy I would suggest avoiding 360 Living...</td>\n",
              "    </tr>\n",
              "    <tr>\n",
              "      <th>795003</th>\n",
              "      <td>0</td>\n",
              "      <td>@alexbroun I didn't convince myself I was fat ...</td>\n",
              "    </tr>\n",
              "    <tr>\n",
              "      <th>795004</th>\n",
              "      <td>0</td>\n",
              "      <td>@spotzle @jstarrh check on sunscreen, snacks, ...</td>\n",
              "    </tr>\n",
              "    <tr>\n",
              "      <th>795005</th>\n",
              "      <td>0</td>\n",
              "      <td>im sitting alone at TTE myself without my two ...</td>\n",
              "    </tr>\n",
              "  </tbody>\n",
              "</table>\n",
              "</div>\n",
              "      <button class=\"colab-df-convert\" onclick=\"convertToInteractive('df-0c109156-fc8a-4fbc-aea4-c8c23272b35f')\"\n",
              "              title=\"Convert this dataframe to an interactive table.\"\n",
              "              style=\"display:none;\">\n",
              "        \n",
              "  <svg xmlns=\"http://www.w3.org/2000/svg\" height=\"24px\"viewBox=\"0 0 24 24\"\n",
              "       width=\"24px\">\n",
              "    <path d=\"M0 0h24v24H0V0z\" fill=\"none\"/>\n",
              "    <path d=\"M18.56 5.44l.94 2.06.94-2.06 2.06-.94-2.06-.94-.94-2.06-.94 2.06-2.06.94zm-11 1L8.5 8.5l.94-2.06 2.06-.94-2.06-.94L8.5 2.5l-.94 2.06-2.06.94zm10 10l.94 2.06.94-2.06 2.06-.94-2.06-.94-.94-2.06-.94 2.06-2.06.94z\"/><path d=\"M17.41 7.96l-1.37-1.37c-.4-.4-.92-.59-1.43-.59-.52 0-1.04.2-1.43.59L10.3 9.45l-7.72 7.72c-.78.78-.78 2.05 0 2.83L4 21.41c.39.39.9.59 1.41.59.51 0 1.02-.2 1.41-.59l7.78-7.78 2.81-2.81c.8-.78.8-2.07 0-2.86zM5.41 20L4 18.59l7.72-7.72 1.47 1.35L5.41 20z\"/>\n",
              "  </svg>\n",
              "      </button>\n",
              "      \n",
              "  <style>\n",
              "    .colab-df-container {\n",
              "      display:flex;\n",
              "      flex-wrap:wrap;\n",
              "      gap: 12px;\n",
              "    }\n",
              "\n",
              "    .colab-df-convert {\n",
              "      background-color: #E8F0FE;\n",
              "      border: none;\n",
              "      border-radius: 50%;\n",
              "      cursor: pointer;\n",
              "      display: none;\n",
              "      fill: #1967D2;\n",
              "      height: 32px;\n",
              "      padding: 0 0 0 0;\n",
              "      width: 32px;\n",
              "    }\n",
              "\n",
              "    .colab-df-convert:hover {\n",
              "      background-color: #E2EBFA;\n",
              "      box-shadow: 0px 1px 2px rgba(60, 64, 67, 0.3), 0px 1px 3px 1px rgba(60, 64, 67, 0.15);\n",
              "      fill: #174EA6;\n",
              "    }\n",
              "\n",
              "    [theme=dark] .colab-df-convert {\n",
              "      background-color: #3B4455;\n",
              "      fill: #D2E3FC;\n",
              "    }\n",
              "\n",
              "    [theme=dark] .colab-df-convert:hover {\n",
              "      background-color: #434B5C;\n",
              "      box-shadow: 0px 1px 3px 1px rgba(0, 0, 0, 0.15);\n",
              "      filter: drop-shadow(0px 1px 2px rgba(0, 0, 0, 0.3));\n",
              "      fill: #FFFFFF;\n",
              "    }\n",
              "  </style>\n",
              "\n",
              "      <script>\n",
              "        const buttonEl =\n",
              "          document.querySelector('#df-0c109156-fc8a-4fbc-aea4-c8c23272b35f button.colab-df-convert');\n",
              "        buttonEl.style.display =\n",
              "          google.colab.kernel.accessAllowed ? 'block' : 'none';\n",
              "\n",
              "        async function convertToInteractive(key) {\n",
              "          const element = document.querySelector('#df-0c109156-fc8a-4fbc-aea4-c8c23272b35f');\n",
              "          const dataTable =\n",
              "            await google.colab.kernel.invokeFunction('convertToInteractive',\n",
              "                                                     [key], {});\n",
              "          if (!dataTable) return;\n",
              "\n",
              "          const docLinkHtml = 'Like what you see? Visit the ' +\n",
              "            '<a target=\"_blank\" href=https://colab.research.google.com/notebooks/data_table.ipynb>data table notebook</a>'\n",
              "            + ' to learn more about interactive tables.';\n",
              "          element.innerHTML = '';\n",
              "          dataTable['output_type'] = 'display_data';\n",
              "          await google.colab.output.renderOutput(dataTable, element);\n",
              "          const docLink = document.createElement('div');\n",
              "          docLink.innerHTML = docLinkHtml;\n",
              "          element.appendChild(docLink);\n",
              "        }\n",
              "      </script>\n",
              "    </div>\n",
              "  </div>\n",
              "  "
            ],
            "text/plain": [
              "        target                                               text\n",
              "795001       0       Blah 5am still up  daang I got deep problems\n",
              "795002       0  @jenspeedy I would suggest avoiding 360 Living...\n",
              "795003       0  @alexbroun I didn't convince myself I was fat ...\n",
              "795004       0  @spotzle @jstarrh check on sunscreen, snacks, ...\n",
              "795005       0  im sitting alone at TTE myself without my two ..."
            ]
          },
          "metadata": {},
          "execution_count": 16
        }
      ]
    },
    {
      "cell_type": "code",
      "metadata": {
        "colab": {
          "base_uri": "https://localhost:8080/",
          "height": 0
        },
        "id": "1lk6Veni3rBh",
        "outputId": "653a2e72-9c52-4a42-af6b-5ceed110d7e9"
      },
      "source": [
        "nltk.download('wordnet')\n",
        "def clean_text(text):\n",
        "    #casing\n",
        "    text = text.lower()\n",
        "\n",
        "    #noise removal\n",
        "    pattern = re.compile('http[s]?://(?:[a-zA-Z]|[0-9]|[$-_@.&+]|[!*\\(\\),]|(?:%[0-9a-fA-F][0-9a-fA-F]))+')\n",
        "    text = pattern.sub('', text)\n",
        "        \n",
        "    emoji = re.compile(\"[\"\n",
        "                       u\"\\U0001F600-\\U0001FFFF\"  # emoticons\n",
        "                       u\"\\U0001F300-\\U0001F5FF\"  # symbols & pictographs\n",
        "                       u\"\\U0001F680-\\U0001F6FF\"  # transport & map symbols\n",
        "                       u\"\\U0001F1E0-\\U0001F1FF\"  # flags (iOS)\n",
        "                       u\"\\U00002702-\\U000027B0\"\n",
        "                       u\"\\U000024C2-\\U0001F251\"\n",
        "                       \"]+\", flags=re.UNICODE)\n",
        "    text = emoji.sub(r'', text)\n",
        "        \n",
        "    text = re.sub(r\"i'm\", \"i am\", text)\n",
        "    text = re.sub(r\"he's\", \"he is\", text)\n",
        "    text = re.sub(r\"she's\", \"she is\", text)\n",
        "    text = re.sub(r\"that's\", \"that is\", text)        \n",
        "    text = re.sub(r\"what's\", \"what is\", text)\n",
        "    text = re.sub(r\"where's\", \"where is\", text) \n",
        "    text = re.sub(r\"\\'ll\", \" will\", text)  \n",
        "    text = re.sub(r\"\\'ve\", \" have\", text)  \n",
        "    text = re.sub(r\"\\'re\", \" are\", text)\n",
        "    text = re.sub(r\"\\'d\", \" would\", text)\n",
        "    text = re.sub(r\"\\'ve\", \" have\", text)\n",
        "    text = re.sub(r\"won't\", \"will not\", text)\n",
        "    text = re.sub(r\"don't\", \"do not\", text)\n",
        "    text = re.sub(r\"did't\", \"did not\", text)\n",
        "    text = re.sub(r\"can't\", \"can not\", text)\n",
        "    text = re.sub(r\"it's\", \"it is\", text)\n",
        "    text = re.sub(r\"couldn't\", \"could not\", text)\n",
        "    text = re.sub(r\"have't\", \"have not\", text)\n",
        "        \n",
        "    text = re.sub(r\"[,.\\\"!@#$%^&*(){}?/;`~:<>+=-]\", \"\", text)\n",
        "    text = re.sub(r\"http\\S+|www\\S+|https\\S+\", \"\", text, flags = re.MULTILINE)\n",
        "    text = text.translate(str.maketrans(\"\", \"\", string.punctuation))\n",
        "    text = re.sub(r'\\@\\w+|\\@', \"\", text)\n",
        "    text = re.sub('[0-9]+', '', text)\n",
        "\n",
        "    #tokenization\n",
        "    tokens = word_tokenize(text)\n",
        "\n",
        "    #Stopwords removal\n",
        "    tokens = [t for t in tokens if t not in stopwords] #remove stopwords\n",
        "    \n",
        "    lemmatizer = WordNetLemmatizer()\n",
        "    lemma_words = [lemmatizer.lemmatize(w, pos='a') for w in tokens]\n",
        "        \n",
        "    return \" \".join(lemma_words).lower()\n",
        "\n",
        "df['text'] = [clean_text(text) for text in df['text']]"
      ],
      "execution_count": 17,
      "outputs": [
        {
          "output_type": "stream",
          "name": "stdout",
          "text": [
            "[nltk_data] Downloading package wordnet to /root/nltk_data...\n",
            "[nltk_data]   Unzipping corpora/wordnet.zip.\n"
          ]
        },
        {
          "output_type": "stream",
          "name": "stderr",
          "text": [
            "/usr/local/lib/python3.7/dist-packages/ipykernel_launcher.py:56: SettingWithCopyWarning: \n",
            "A value is trying to be set on a copy of a slice from a DataFrame.\n",
            "Try using .loc[row_indexer,col_indexer] = value instead\n",
            "\n",
            "See the caveats in the documentation: https://pandas.pydata.org/pandas-docs/stable/user_guide/indexing.html#returning-a-view-versus-a-copy\n"
          ]
        }
      ]
    },
    {
      "cell_type": "code",
      "metadata": {
        "colab": {
          "base_uri": "https://localhost:8080/",
          "height": 204
        },
        "id": "UvFWHP-E7Ay7",
        "outputId": "b140df04-01da-44ad-e9ba-1f46d4f4b428"
      },
      "source": [
        "df.head()"
      ],
      "execution_count": 18,
      "outputs": [
        {
          "output_type": "execute_result",
          "data": {
            "text/html": [
              "\n",
              "  <div id=\"df-680749ed-1758-4e96-9cc3-0dc6407d90e4\">\n",
              "    <div class=\"colab-df-container\">\n",
              "      <div>\n",
              "<style scoped>\n",
              "    .dataframe tbody tr th:only-of-type {\n",
              "        vertical-align: middle;\n",
              "    }\n",
              "\n",
              "    .dataframe tbody tr th {\n",
              "        vertical-align: top;\n",
              "    }\n",
              "\n",
              "    .dataframe thead th {\n",
              "        text-align: right;\n",
              "    }\n",
              "</style>\n",
              "<table border=\"1\" class=\"dataframe\">\n",
              "  <thead>\n",
              "    <tr style=\"text-align: right;\">\n",
              "      <th></th>\n",
              "      <th>target</th>\n",
              "      <th>text</th>\n",
              "    </tr>\n",
              "  </thead>\n",
              "  <tbody>\n",
              "    <tr>\n",
              "      <th>795001</th>\n",
              "      <td>0</td>\n",
              "      <td>blah still daang got deep problems</td>\n",
              "    </tr>\n",
              "    <tr>\n",
              "      <th>795002</th>\n",
              "      <td>0</td>\n",
              "      <td>jenspeedy would suggest avoiding living goodne...</td>\n",
              "    </tr>\n",
              "    <tr>\n",
              "      <th>795003</th>\n",
              "      <td>0</td>\n",
              "      <td>alexbroun didnt convince fat ugly someone else...</td>\n",
              "    </tr>\n",
              "    <tr>\n",
              "      <th>795004</th>\n",
              "      <td>0</td>\n",
              "      <td>spotzle jstarrh check sunscreen snacks towels ...</td>\n",
              "    </tr>\n",
              "    <tr>\n",
              "      <th>795005</th>\n",
              "      <td>0</td>\n",
              "      <td>im sitting alone tte without two michigan sist...</td>\n",
              "    </tr>\n",
              "  </tbody>\n",
              "</table>\n",
              "</div>\n",
              "      <button class=\"colab-df-convert\" onclick=\"convertToInteractive('df-680749ed-1758-4e96-9cc3-0dc6407d90e4')\"\n",
              "              title=\"Convert this dataframe to an interactive table.\"\n",
              "              style=\"display:none;\">\n",
              "        \n",
              "  <svg xmlns=\"http://www.w3.org/2000/svg\" height=\"24px\"viewBox=\"0 0 24 24\"\n",
              "       width=\"24px\">\n",
              "    <path d=\"M0 0h24v24H0V0z\" fill=\"none\"/>\n",
              "    <path d=\"M18.56 5.44l.94 2.06.94-2.06 2.06-.94-2.06-.94-.94-2.06-.94 2.06-2.06.94zm-11 1L8.5 8.5l.94-2.06 2.06-.94-2.06-.94L8.5 2.5l-.94 2.06-2.06.94zm10 10l.94 2.06.94-2.06 2.06-.94-2.06-.94-.94-2.06-.94 2.06-2.06.94z\"/><path d=\"M17.41 7.96l-1.37-1.37c-.4-.4-.92-.59-1.43-.59-.52 0-1.04.2-1.43.59L10.3 9.45l-7.72 7.72c-.78.78-.78 2.05 0 2.83L4 21.41c.39.39.9.59 1.41.59.51 0 1.02-.2 1.41-.59l7.78-7.78 2.81-2.81c.8-.78.8-2.07 0-2.86zM5.41 20L4 18.59l7.72-7.72 1.47 1.35L5.41 20z\"/>\n",
              "  </svg>\n",
              "      </button>\n",
              "      \n",
              "  <style>\n",
              "    .colab-df-container {\n",
              "      display:flex;\n",
              "      flex-wrap:wrap;\n",
              "      gap: 12px;\n",
              "    }\n",
              "\n",
              "    .colab-df-convert {\n",
              "      background-color: #E8F0FE;\n",
              "      border: none;\n",
              "      border-radius: 50%;\n",
              "      cursor: pointer;\n",
              "      display: none;\n",
              "      fill: #1967D2;\n",
              "      height: 32px;\n",
              "      padding: 0 0 0 0;\n",
              "      width: 32px;\n",
              "    }\n",
              "\n",
              "    .colab-df-convert:hover {\n",
              "      background-color: #E2EBFA;\n",
              "      box-shadow: 0px 1px 2px rgba(60, 64, 67, 0.3), 0px 1px 3px 1px rgba(60, 64, 67, 0.15);\n",
              "      fill: #174EA6;\n",
              "    }\n",
              "\n",
              "    [theme=dark] .colab-df-convert {\n",
              "      background-color: #3B4455;\n",
              "      fill: #D2E3FC;\n",
              "    }\n",
              "\n",
              "    [theme=dark] .colab-df-convert:hover {\n",
              "      background-color: #434B5C;\n",
              "      box-shadow: 0px 1px 3px 1px rgba(0, 0, 0, 0.15);\n",
              "      filter: drop-shadow(0px 1px 2px rgba(0, 0, 0, 0.3));\n",
              "      fill: #FFFFFF;\n",
              "    }\n",
              "  </style>\n",
              "\n",
              "      <script>\n",
              "        const buttonEl =\n",
              "          document.querySelector('#df-680749ed-1758-4e96-9cc3-0dc6407d90e4 button.colab-df-convert');\n",
              "        buttonEl.style.display =\n",
              "          google.colab.kernel.accessAllowed ? 'block' : 'none';\n",
              "\n",
              "        async function convertToInteractive(key) {\n",
              "          const element = document.querySelector('#df-680749ed-1758-4e96-9cc3-0dc6407d90e4');\n",
              "          const dataTable =\n",
              "            await google.colab.kernel.invokeFunction('convertToInteractive',\n",
              "                                                     [key], {});\n",
              "          if (!dataTable) return;\n",
              "\n",
              "          const docLinkHtml = 'Like what you see? Visit the ' +\n",
              "            '<a target=\"_blank\" href=https://colab.research.google.com/notebooks/data_table.ipynb>data table notebook</a>'\n",
              "            + ' to learn more about interactive tables.';\n",
              "          element.innerHTML = '';\n",
              "          dataTable['output_type'] = 'display_data';\n",
              "          await google.colab.output.renderOutput(dataTable, element);\n",
              "          const docLink = document.createElement('div');\n",
              "          docLink.innerHTML = docLinkHtml;\n",
              "          element.appendChild(docLink);\n",
              "        }\n",
              "      </script>\n",
              "    </div>\n",
              "  </div>\n",
              "  "
            ],
            "text/plain": [
              "        target                                               text\n",
              "795001       0                 blah still daang got deep problems\n",
              "795002       0  jenspeedy would suggest avoiding living goodne...\n",
              "795003       0  alexbroun didnt convince fat ugly someone else...\n",
              "795004       0  spotzle jstarrh check sunscreen snacks towels ...\n",
              "795005       0  im sitting alone tte without two michigan sist..."
            ]
          },
          "metadata": {},
          "execution_count": 18
        }
      ]
    },
    {
      "cell_type": "code",
      "metadata": {
        "colab": {
          "base_uri": "https://localhost:8080/",
          "height": 0
        },
        "id": "G19--fm87z-A",
        "outputId": "53b641ee-6970-41b3-ef15-d1567346ec41"
      },
      "source": [
        "df.isnull().any()"
      ],
      "execution_count": 19,
      "outputs": [
        {
          "output_type": "execute_result",
          "data": {
            "text/plain": [
              "target    False\n",
              "text      False\n",
              "dtype: bool"
            ]
          },
          "metadata": {},
          "execution_count": 19
        }
      ]
    },
    {
      "cell_type": "code",
      "metadata": {
        "id": "8qaaaPTq-E1v"
      },
      "source": [
        "X = df['text']\n",
        "Y = df['target']"
      ],
      "execution_count": 27,
      "outputs": []
    },
    {
      "cell_type": "code",
      "source": [
        "X"
      ],
      "metadata": {
        "colab": {
          "base_uri": "https://localhost:8080/",
          "height": 0
        },
        "id": "PyMoi2AosaQs",
        "outputId": "002140c3-4a9f-4dbb-f354-8b42ee8f4a86"
      },
      "execution_count": 30,
      "outputs": [
        {
          "output_type": "execute_result",
          "data": {
            "text/plain": [
              "795001                   blah still daang got deep problems\n",
              "795002    jenspeedy would suggest avoiding living goodne...\n",
              "795003    alexbroun didnt convince fat ugly someone else...\n",
              "795004    spotzle jstarrh check sunscreen snacks towels ...\n",
              "795005    im sitting alone tte without two michigan sist...\n",
              "                                ...                        \n",
              "804996    ickleoriental hahahha u obviously hv one maybe...\n",
              "804997    juliekoh internet term spilled common use real...\n",
              "804998                                    new day new track\n",
              "804999    foodieguide okay need competition see whether ...\n",
              "805000    perfectelement noooooooo wish saw advertised l...\n",
              "Name: text, Length: 10000, dtype: object"
            ]
          },
          "metadata": {},
          "execution_count": 30
        }
      ]
    },
    {
      "cell_type": "code",
      "source": [
        "from sklearn.feature_extraction.text import CountVectorizer\n",
        "countvector = CountVectorizer()\n",
        "X = countvector.fit_transform(df['text'])\n",
        "X"
      ],
      "metadata": {
        "colab": {
          "base_uri": "https://localhost:8080/",
          "height": 0
        },
        "id": "60bgQl0MnxgX",
        "outputId": "c985fd9d-846a-4cd4-8f65-c78faacf8834"
      },
      "execution_count": 93,
      "outputs": [
        {
          "output_type": "execute_result",
          "data": {
            "text/plain": [
              "<10000x17984 sparse matrix of type '<class 'numpy.int64'>'\n",
              "\twith 72266 stored elements in Compressed Sparse Row format>"
            ]
          },
          "metadata": {},
          "execution_count": 93
        }
      ]
    },
    {
      "cell_type": "code",
      "source": [
        "X[0].toarray()"
      ],
      "metadata": {
        "colab": {
          "base_uri": "https://localhost:8080/",
          "height": 0
        },
        "id": "ljnYhY6Sur5-",
        "outputId": "92d905b1-434c-43de-ab4d-ba7f1b04151e"
      },
      "execution_count": 49,
      "outputs": [
        {
          "output_type": "execute_result",
          "data": {
            "text/plain": [
              "array([[0, 0, 0, ..., 0, 0, 0]])"
            ]
          },
          "metadata": {},
          "execution_count": 49
        }
      ]
    },
    {
      "cell_type": "code",
      "source": [
        "countvector.get_feature_names()"
      ],
      "metadata": {
        "colab": {
          "base_uri": "https://localhost:8080/",
          "height": 0
        },
        "id": "VH-Hp-wBYdyu",
        "outputId": "7df73c73-35eb-4959-a5cc-86c43015f6fa"
      },
      "execution_count": 50,
      "outputs": [
        {
          "output_type": "stream",
          "name": "stderr",
          "text": [
            "/usr/local/lib/python3.7/dist-packages/sklearn/utils/deprecation.py:87: FutureWarning: Function get_feature_names is deprecated; get_feature_names is deprecated in 1.0 and will be removed in 1.2. Please use get_feature_names_out instead.\n",
            "  warnings.warn(msg, category=FutureWarning)\n"
          ]
        },
        {
          "output_type": "execute_result",
          "data": {
            "text/plain": [
              "['aaa',\n",
              " 'aaaa',\n",
              " 'aaaaages',\n",
              " 'aaaaahhh',\n",
              " 'aaaaahhhh',\n",
              " 'aaaall',\n",
              " 'aaaand',\n",
              " 'aaah',\n",
              " 'aaajaayradd',\n",
              " 'aaargh',\n",
              " 'aaarrrrgghhhh',\n",
              " 'aaaww',\n",
              " 'aadm',\n",
              " 'aahoogendoorn',\n",
              " 'aaminahh',\n",
              " 'aampj',\n",
              " 'aargh',\n",
              " 'aaronfilmmaker',\n",
              " 'aaronmiciah',\n",
              " 'aaronshale',\n",
              " 'aaru',\n",
              " 'abacab',\n",
              " 'abay',\n",
              " 'abby',\n",
              " 'abbyjeanne',\n",
              " 'abc',\n",
              " 'abcdefglynis',\n",
              " 'abcessed',\n",
              " 'abdomen',\n",
              " 'abegruber',\n",
              " 'aber',\n",
              " 'aberdeenfc',\n",
              " 'aberystwytharts',\n",
              " 'abhisheknagar',\n",
              " 'abhishektiwari',\n",
              " 'abhishekupadhya',\n",
              " 'abigail',\n",
              " 'abigaillovesyou',\n",
              " 'abikent',\n",
              " 'ability',\n",
              " 'abipips',\n",
              " 'abis',\n",
              " 'abisignorelli',\n",
              " 'abit',\n",
              " 'able',\n",
              " 'ablt',\n",
              " 'abolished',\n",
              " 'aboogie',\n",
              " 'abroad',\n",
              " 'absolute',\n",
              " 'absolutely',\n",
              " 'absolutley',\n",
              " 'absorb',\n",
              " 'absorbing',\n",
              " 'abt',\n",
              " 'abused',\n",
              " 'ac',\n",
              " 'acabo',\n",
              " 'academy',\n",
              " 'accent',\n",
              " 'accept',\n",
              " 'accepted',\n",
              " 'access',\n",
              " 'accessquot',\n",
              " 'accident',\n",
              " 'accidentally',\n",
              " 'accidents',\n",
              " 'accom',\n",
              " 'accomodation',\n",
              " 'accompanied',\n",
              " 'accompanying',\n",
              " 'accomplished',\n",
              " 'accordance',\n",
              " 'according',\n",
              " 'account',\n",
              " 'accountant',\n",
              " 'accountants',\n",
              " 'accounting',\n",
              " 'accountlooking',\n",
              " 'accounts',\n",
              " 'accross',\n",
              " 'accshan',\n",
              " 'acct',\n",
              " 'accurate',\n",
              " 'accuse',\n",
              " 'accused',\n",
              " 'ace',\n",
              " 'acebowman',\n",
              " 'ach',\n",
              " 'achaha',\n",
              " 'ache',\n",
              " 'achen',\n",
              " 'aches',\n",
              " 'achetã',\n",
              " 'achieved',\n",
              " 'achievement',\n",
              " 'achievements',\n",
              " 'achievin',\n",
              " 'achilles',\n",
              " 'aching',\n",
              " 'achmed',\n",
              " 'ack',\n",
              " 'ackin',\n",
              " 'acknowledge',\n",
              " 'acknowledgement',\n",
              " 'acland',\n",
              " 'acmaster',\n",
              " 'acms',\n",
              " 'acowboyswife',\n",
              " 'across',\n",
              " 'acsam',\n",
              " 'acting',\n",
              " 'action',\n",
              " 'actionscriptxml',\n",
              " 'active',\n",
              " 'activist',\n",
              " 'activities',\n",
              " 'activity',\n",
              " 'actor',\n",
              " 'actress',\n",
              " 'actresses',\n",
              " 'actual',\n",
              " 'actually',\n",
              " 'actualy',\n",
              " 'acupuncture',\n",
              " 'ad',\n",
              " 'adalinelangton',\n",
              " 'adalinemusic',\n",
              " 'adam',\n",
              " 'adambuxton',\n",
              " 'adamcsmith',\n",
              " 'adamdexter',\n",
              " 'adamdscott',\n",
              " 'adamjackson',\n",
              " 'adamlawlz',\n",
              " 'adammshankman',\n",
              " 'adamrburton',\n",
              " 'adamrothwell',\n",
              " 'adams',\n",
              " 'adamspiel',\n",
              " 'adapaavi',\n",
              " 'adapter',\n",
              " 'add',\n",
              " 'added',\n",
              " 'addict',\n",
              " 'addicted',\n",
              " 'addicting',\n",
              " 'addiction',\n",
              " 'addictive',\n",
              " 'addicts',\n",
              " 'adding',\n",
              " 'additions',\n",
              " 'additons',\n",
              " 'addled',\n",
              " 'address',\n",
              " 'addthis',\n",
              " 'addx',\n",
              " 'addy',\n",
              " 'adelaideh',\n",
              " 'adelate',\n",
              " 'adele',\n",
              " 'adeline',\n",
              " 'adelinesky',\n",
              " 'adenikes',\n",
              " 'adhochazel',\n",
              " 'adik',\n",
              " 'adisson',\n",
              " 'adium',\n",
              " 'adjusted',\n",
              " 'adjusting',\n",
              " 'admetcetera',\n",
              " 'admin',\n",
              " 'administrator',\n",
              " 'admired',\n",
              " 'admiring',\n",
              " 'admission',\n",
              " 'admit',\n",
              " 'admitted',\n",
              " 'admnspotter',\n",
              " 'adnams',\n",
              " 'adobe',\n",
              " 'adolescent',\n",
              " 'adorable',\n",
              " 'adorableness',\n",
              " 'adoracion',\n",
              " 'adore',\n",
              " 'adored',\n",
              " 'adotmdot',\n",
              " 'adrianaacosta',\n",
              " 'adrianalemus',\n",
              " 'adrianna',\n",
              " 'adricorn',\n",
              " 'adrielhampton',\n",
              " 'adrimane',\n",
              " 'adriyah',\n",
              " 'ads',\n",
              " 'adtech',\n",
              " 'adult',\n",
              " 'adulthood',\n",
              " 'adults',\n",
              " 'advance',\n",
              " 'advanced',\n",
              " 'advantage',\n",
              " 'advantages',\n",
              " 'adventure',\n",
              " 'adventures',\n",
              " 'advertised',\n",
              " 'advertising',\n",
              " 'adverts',\n",
              " 'advice',\n",
              " 'adwords',\n",
              " 'ae',\n",
              " 'aesthetically',\n",
              " 'af',\n",
              " 'afallendevil',\n",
              " 'afar',\n",
              " 'affect',\n",
              " 'affected',\n",
              " 'affirmation',\n",
              " 'afford',\n",
              " 'afghanartistry',\n",
              " 'afl',\n",
              " 'afraid',\n",
              " 'african',\n",
              " 'afterallfor',\n",
              " 'aftermidnightproject',\n",
              " 'afternoon',\n",
              " 'afternoons',\n",
              " 'afterparty',\n",
              " 'afterwards',\n",
              " 'aftr',\n",
              " 'aftre',\n",
              " 'againn',\n",
              " 'againnyaha',\n",
              " 'againright',\n",
              " 'againso',\n",
              " 'againstill',\n",
              " 'againwhilst',\n",
              " 'againwith',\n",
              " 'againï',\n",
              " 'age',\n",
              " 'aged',\n",
              " 'agen',\n",
              " 'agency',\n",
              " 'agentbooth',\n",
              " 'agentofchange',\n",
              " 'ages',\n",
              " 'agghhhh',\n",
              " 'aggressive',\n",
              " 'agile',\n",
              " 'ago',\n",
              " 'agomy',\n",
              " 'agree',\n",
              " 'agreed',\n",
              " 'agreefallout',\n",
              " 'agreemade',\n",
              " 'agrees',\n",
              " 'agressive',\n",
              " 'agua',\n",
              " 'ah',\n",
              " 'aha',\n",
              " 'ahah',\n",
              " 'ahaha',\n",
              " 'ahahagood',\n",
              " 'ahahah',\n",
              " 'ahahaha',\n",
              " 'ahahhaha',\n",
              " 'ahan',\n",
              " 'ahanother',\n",
              " 'ahead',\n",
              " 'aheartofstars',\n",
              " 'ahem',\n",
              " 'aherne',\n",
              " 'ahh',\n",
              " 'ahha',\n",
              " 'ahhaahhaha',\n",
              " 'ahhah',\n",
              " 'ahhcollege',\n",
              " 'ahhh',\n",
              " 'ahhhh',\n",
              " 'ahhhhh',\n",
              " 'ahhhhhhhhhhhhh',\n",
              " 'ahhhsigns',\n",
              " 'ahhsudden',\n",
              " 'ahie',\n",
              " 'ahm',\n",
              " 'ahn',\n",
              " 'ahnothing',\n",
              " 'ahupuaa',\n",
              " 'ai',\n",
              " 'aid',\n",
              " 'aided',\n",
              " 'aiden',\n",
              " 'aidenchan',\n",
              " 'aids',\n",
              " 'aiduong',\n",
              " 'aiesec',\n",
              " 'aig',\n",
              " 'aight',\n",
              " 'aikabelle',\n",
              " 'aileenabigail',\n",
              " 'aileenburns',\n",
              " 'aim',\n",
              " 'aimed',\n",
              " 'aimee',\n",
              " 'aimeenbarnes',\n",
              " 'aiming',\n",
              " 'ainaalano',\n",
              " 'aint',\n",
              " 'aintitcoolcom',\n",
              " 'aior',\n",
              " 'aiorselvar',\n",
              " 'aiport',\n",
              " 'air',\n",
              " 'airfiel',\n",
              " 'airlines',\n",
              " 'airnchoo',\n",
              " 'airopium',\n",
              " 'airplane',\n",
              " 'airplanemancf',\n",
              " 'airport',\n",
              " 'airports',\n",
              " 'airripe',\n",
              " 'airrun',\n",
              " 'aisha',\n",
              " 'aisles',\n",
              " 'aiya',\n",
              " 'aiyanasimone',\n",
              " 'aja',\n",
              " 'ajbombers',\n",
              " 'ajschokoras',\n",
              " 'aka',\n",
              " 'akali',\n",
              " 'akelaa',\n",
              " 'akhepcat',\n",
              " 'akimboness',\n",
              " 'akitas',\n",
              " 'akmedia',\n",
              " 'akng',\n",
              " 'ako',\n",
              " 'akshatk',\n",
              " 'aktually',\n",
              " 'al',\n",
              " 'alabaster',\n",
              " 'alam',\n",
              " 'alameda',\n",
              " 'alamia',\n",
              " 'alan',\n",
              " 'alancostello',\n",
              " 'alandistro',\n",
              " 'alannanoelle',\n",
              " 'alarm',\n",
              " 'alas',\n",
              " 'alaska',\n",
              " 'alaskaair',\n",
              " 'albarn',\n",
              " 'albedo',\n",
              " 'albert',\n",
              " 'albertusdimas',\n",
              " 'albinla',\n",
              " 'album',\n",
              " 'albums',\n",
              " 'alcarcalimo',\n",
              " 'alcohol',\n",
              " 'alcoholic',\n",
              " 'aldoturangan',\n",
              " 'ale',\n",
              " 'aleevz',\n",
              " 'alefragisp',\n",
              " 'alert',\n",
              " 'alex',\n",
              " 'alexa',\n",
              " 'alexander',\n",
              " 'alexandramusic',\n",
              " 'alexbroun',\n",
              " 'alexcashcash',\n",
              " 'alexcovic',\n",
              " 'alexcraven',\n",
              " 'alexhighton',\n",
              " 'alexiaaa',\n",
              " 'alexmetric',\n",
              " 'alexpuig',\n",
              " 'alextrafford',\n",
              " 'alfie',\n",
              " 'algorithmic',\n",
              " 'ali',\n",
              " 'alicam',\n",
              " 'alice',\n",
              " 'alicemainz',\n",
              " 'aliceverheij',\n",
              " 'alicia',\n",
              " 'alien',\n",
              " 'aliens',\n",
              " 'alienware',\n",
              " 'alignment',\n",
              " 'alimae',\n",
              " 'alioswald',\n",
              " 'alireddeer',\n",
              " 'alirght',\n",
              " 'alisonhogarth',\n",
              " 'alive',\n",
              " 'alivei',\n",
              " 'alivequot',\n",
              " 'alixsays',\n",
              " 'aliza',\n",
              " 'alizasherman',\n",
              " 'alkar',\n",
              " 'alla',\n",
              " 'allan',\n",
              " 'allanahk',\n",
              " 'allanatrogue',\n",
              " 'allegory',\n",
              " 'allen',\n",
              " 'allenjesson',\n",
              " 'allergic',\n",
              " 'allergies',\n",
              " 'allergy',\n",
              " 'alley',\n",
              " 'alleycat',\n",
              " 'alliance',\n",
              " 'alliances',\n",
              " 'allin',\n",
              " 'alllergic',\n",
              " 'alllll',\n",
              " 'allllll',\n",
              " 'allo',\n",
              " 'allocation',\n",
              " 'allow',\n",
              " 'allowance',\n",
              " 'allowancesheesh',\n",
              " 'allowed',\n",
              " 'allowing',\n",
              " 'alls',\n",
              " 'allsorts',\n",
              " 'allstarsonline',\n",
              " 'alltooyoung',\n",
              " 'allways',\n",
              " 'allygeee',\n",
              " 'almahh',\n",
              " 'almalacubana',\n",
              " 'almost',\n",
              " 'almostmaybe',\n",
              " 'almostsurprised',\n",
              " 'alone',\n",
              " 'along',\n",
              " 'alonpeer',\n",
              " 'alot',\n",
              " 'alpaca',\n",
              " 'alpha',\n",
              " 'alphabetlque',\n",
              " 'alphabites',\n",
              " 'alr',\n",
              " 'alrdy',\n",
              " 'alread',\n",
              " 'already',\n",
              " 'alright',\n",
              " 'alrighty',\n",
              " 'alrite',\n",
              " 'also',\n",
              " 'altered',\n",
              " 'alternative',\n",
              " 'alternatively',\n",
              " 'although',\n",
              " 'alton',\n",
              " 'aluminum',\n",
              " 'alvhin',\n",
              " 'alvinkoay',\n",
              " 'alway',\n",
              " 'always',\n",
              " 'alweer',\n",
              " 'alwys',\n",
              " 'alyaqasthari',\n",
              " 'alzheimersadd',\n",
              " 'amaaazing',\n",
              " 'amalia',\n",
              " 'amanda',\n",
              " 'amandablum',\n",
              " 'amandadiva',\n",
              " 'amandaenjoying',\n",
              " 'amandahesser',\n",
              " 'amandanicole',\n",
              " 'amandayoung',\n",
              " 'amariss',\n",
              " 'amaze',\n",
              " 'amazed',\n",
              " 'amazin',\n",
              " 'amazing',\n",
              " 'amazingg',\n",
              " 'amazinggg',\n",
              " 'amazingly',\n",
              " 'amazingness',\n",
              " 'amazon',\n",
              " 'amazondotjon',\n",
              " 'amb',\n",
              " 'amber',\n",
              " 'amberbenson',\n",
              " 'ambercantrell',\n",
              " 'amberlily',\n",
              " 'amberlovely',\n",
              " 'ambermunster',\n",
              " 'ambien',\n",
              " 'amby',\n",
              " 'amedelrivero',\n",
              " 'amelia',\n",
              " 'amen',\n",
              " 'america',\n",
              " 'americahe',\n",
              " 'american',\n",
              " 'americas',\n",
              " 'amerika',\n",
              " 'amerikag',\n",
              " 'amethystfirefly',\n",
              " 'amfinished',\n",
              " 'amgive',\n",
              " 'amidst',\n",
              " 'amielr',\n",
              " 'amiestreet',\n",
              " 'amif',\n",
              " 'amineb',\n",
              " 'amish',\n",
              " 'amitsaha',\n",
              " 'amo',\n",
              " 'amoir',\n",
              " 'among',\n",
              " 'amongst',\n",
              " 'amount',\n",
              " 'amounts',\n",
              " 'amoutos',\n",
              " 'amozon',\n",
              " 'amp',\n",
              " 'amphi',\n",
              " 'ampi',\n",
              " 'ampmaking',\n",
              " 'amritsar',\n",
              " 'amsterdam',\n",
              " 'amused',\n",
              " 'amusing',\n",
              " 'amy',\n",
              " 'amyg',\n",
              " 'amyknapp',\n",
              " 'amylynnequist',\n",
              " 'amypalko',\n",
              " 'amyshell',\n",
              " 'ana',\n",
              " 'anahã',\n",
              " 'anal',\n",
              " 'analyses',\n",
              " 'analysis',\n",
              " 'anaperiodista',\n",
              " 'anasalido',\n",
              " 'anash',\n",
              " 'anastasia',\n",
              " 'anatomy',\n",
              " 'anbudanbala',\n",
              " 'anchorage',\n",
              " 'anchorwoman',\n",
              " 'and',\n",
              " 'andakilsa',\n",
              " 'andami',\n",
              " 'andcalebsays',\n",
              " 'anddog',\n",
              " 'anders',\n",
              " 'andersen',\n",
              " 'anderson',\n",
              " 'anderssaugstrup',\n",
              " 'andhika',\n",
              " 'andi',\n",
              " 'andiismilez',\n",
              " 'andinto',\n",
              " 'andor',\n",
              " 'andrea',\n",
              " 'andreasauwaerte',\n",
              " 'andrew',\n",
              " 'andrewcilleytmailcom',\n",
              " 'andrewdever',\n",
              " 'andrewgoodman',\n",
              " 'andrewhansen',\n",
              " 'andrewmeyer',\n",
              " 'andrewrimmer',\n",
              " 'andrewrondeau',\n",
              " 'andrewsbit',\n",
              " 'andrewu',\n",
              " 'android',\n",
              " 'andy',\n",
              " 'andybumatai',\n",
              " 'andyclemmensen',\n",
              " 'andydavis',\n",
              " 'andymccullough',\n",
              " 'andyvv',\n",
              " 'anefallarme',\n",
              " 'aneh',\n",
              " 'anferney',\n",
              " 'ang',\n",
              " 'anga',\n",
              " 'angel',\n",
              " 'angelalpev',\n",
              " 'angelamaria',\n",
              " 'angelasiracusa',\n",
              " 'angelastyles',\n",
              " 'angelawb',\n",
              " 'angeles',\n",
              " 'angelhugzzzzzzzzzzzz',\n",
              " 'angelicmischief',\n",
              " 'angelina',\n",
              " 'angelitapita',\n",
              " 'angels',\n",
              " 'angelsmind',\n",
              " 'angelsquot',\n",
              " 'anger',\n",
              " 'angiebatgirl',\n",
              " 'angiebert',\n",
              " 'angiekaybee',\n",
              " 'angiem',\n",
              " 'angieruiz',\n",
              " 'angies',\n",
              " 'angiewrites',\n",
              " 'angilena',\n",
              " 'angriiiii',\n",
              " 'angry',\n",
              " 'angst',\n",
              " 'anguaji',\n",
              " 'anguish',\n",
              " 'angw',\n",
              " 'angwaagee',\n",
              " 'anh',\n",
              " 'ani',\n",
              " 'aniita',\n",
              " 'anikaramirez',\n",
              " 'animalquot',\n",
              " 'animals',\n",
              " 'animation',\n",
              " 'animations',\n",
              " 'anime',\n",
              " 'aniqax',\n",
              " 'anithing',\n",
              " 'aniversary',\n",
              " 'anjelicaca',\n",
              " 'anjulinz',\n",
              " 'ankeshk',\n",
              " 'ankie',\n",
              " 'ankle',\n",
              " 'ankles',\n",
              " 'ann',\n",
              " 'anna',\n",
              " 'annaarco',\n",
              " 'annaasaywhat',\n",
              " 'annabanaboo',\n",
              " 'annabellee',\n",
              " 'annablackaby',\n",
              " 'annaraven',\n",
              " 'annas',\n",
              " 'annasaccone',\n",
              " 'anne',\n",
              " 'annekaf',\n",
              " 'annepmitchell',\n",
              " 'annes',\n",
              " 'anneversteeg',\n",
              " 'annex',\n",
              " 'annie',\n",
              " 'annikarae',\n",
              " 'anniversary',\n",
              " 'annnd',\n",
              " 'anno',\n",
              " 'announce',\n",
              " 'announced',\n",
              " 'announcement',\n",
              " 'announcements',\n",
              " 'annoy',\n",
              " 'annoyed',\n",
              " 'annoyedsaturdayschool',\n",
              " 'annoying',\n",
              " 'annoyingly',\n",
              " 'anny',\n",
              " 'anomit',\n",
              " 'anonymous',\n",
              " 'anotha',\n",
              " 'anothe',\n",
              " 'another',\n",
              " 'anotherjulia',\n",
              " 'anouk',\n",
              " 'anounced',\n",
              " 'anraiki',\n",
              " 'ans',\n",
              " 'ansa',\n",
              " 'ansaaaudi',\n",
              " 'answer',\n",
              " 'answered',\n",
              " 'answering',\n",
              " 'answers',\n",
              " 'ansya',\n",
              " 'ant',\n",
              " 'antartica',\n",
              " 'anthonycashcash',\n",
              " 'anthonyj',\n",
              " 'anthonymoyles',\n",
              " 'anthonyraneri',\n",
              " 'anti',\n",
              " 'antibiotics',\n",
              " 'antibreakage',\n",
              " 'antibullying',\n",
              " 'antipov',\n",
              " 'antisocial',\n",
              " 'antonio',\n",
              " 'antonioj',\n",
              " 'antwoordbiblio',\n",
              " 'anuheajams',\n",
              " 'anwering',\n",
              " 'anxiety',\n",
              " 'anxious',\n",
              " 'anybody',\n",
              " 'anyhow',\n",
              " 'anymore',\n",
              " 'anyone',\n",
              " 'anyoneeeee',\n",
              " 'anyones',\n",
              " 'anyplace',\n",
              " 'anythin',\n",
              " 'anything',\n",
              " 'anytime',\n",
              " 'anywat',\n",
              " 'anyway',\n",
              " 'anywaybye',\n",
              " 'anyways',\n",
              " 'anywaysss',\n",
              " 'anywhere',\n",
              " 'aokiqiao',\n",
              " 'aol',\n",
              " 'aout',\n",
              " 'ap',\n",
              " 'apace',\n",
              " 'apache',\n",
              " 'apapachitos',\n",
              " 'aparajuli',\n",
              " 'aparently',\n",
              " 'apart',\n",
              " 'apartment',\n",
              " 'apartmentbut',\n",
              " 'apartquot',\n",
              " 'apartï',\n",
              " 'apes',\n",
              " 'apettite',\n",
              " 'apfel',\n",
              " 'api',\n",
              " 'apleaforaaron',\n",
              " 'apollo',\n",
              " 'apologies',\n",
              " 'apologize',\n",
              " 'apologized',\n",
              " 'aporto',\n",
              " 'apothecaryjeri',\n",
              " 'app',\n",
              " 'appalachaintrail',\n",
              " 'appalachian',\n",
              " 'apparent',\n",
              " 'apparently',\n",
              " 'appear',\n",
              " 'appearance',\n",
              " 'appearently',\n",
              " 'appearing',\n",
              " 'appears',\n",
              " 'appetite',\n",
              " 'appetizing',\n",
              " 'apple',\n",
              " 'applebees',\n",
              " 'appleccsf',\n",
              " 'applejacque',\n",
              " 'applequot',\n",
              " 'apples',\n",
              " 'applesauce',\n",
              " 'applicants',\n",
              " 'application',\n",
              " 'applications',\n",
              " 'applied',\n",
              " 'applies',\n",
              " 'apply',\n",
              " 'applying',\n",
              " 'appointment',\n",
              " 'apprciated',\n",
              " 'apprecaite',\n",
              " 'appreciate',\n",
              " 'appreciated',\n",
              " 'appreciatedim',\n",
              " 'appreciates',\n",
              " 'appreciating',\n",
              " 'approaching',\n",
              " 'appropriate',\n",
              " 'approval',\n",
              " 'approved',\n",
              " 'approx',\n",
              " 'apps',\n",
              " 'appt',\n",
              " 'apreezyl',\n",
              " 'april',\n",
              " 'aprildont',\n",
              " 'aprilfmay',\n",
              " 'aprilgod',\n",
              " 'aprilmiss',\n",
              " 'apt',\n",
              " 'aptana',\n",
              " 'apti',\n",
              " 'aptpet',\n",
              " 'apvladimir',\n",
              " 'aquarium',\n",
              " 'aqui',\n",
              " 'arab',\n",
              " 'arabsodmg',\n",
              " 'arataka',\n",
              " 'aravindjose',\n",
              " 'araza',\n",
              " 'architek',\n",
              " 'archuleta',\n",
              " 'arctic',\n",
              " 'ardenkhan',\n",
              " 'area',\n",
              " 'areamalta',\n",
              " 'aremoved',\n",
              " 'arena',\n",
              " 'arent',\n",
              " 'aresearch',\n",
              " 'arfanchaudhry',\n",
              " 'argh',\n",
              " 'arghhhh',\n",
              " 'argos',\n",
              " 'argue',\n",
              " 'argued',\n",
              " 'argueing',\n",
              " 'argument',\n",
              " 'arguments',\n",
              " 'arh',\n",
              " 'arhi',\n",
              " 'ari',\n",
              " 'arielbh',\n",
              " 'aries',\n",
              " 'ariesgirl',\n",
              " 'ariherzog',\n",
              " 'aritzia',\n",
              " 'arizona',\n",
              " 'arjankramer',\n",
              " 'ark',\n",
              " 'arlasalcedo',\n",
              " 'arlenecd',\n",
              " 'arm',\n",
              " 'armada',\n",
              " 'armed',\n",
              " 'armin',\n",
              " 'arms',\n",
              " 'army',\n",
              " 'arnes',\n",
              " 'aroseofthanks',\n",
              " 'around',\n",
              " 'aroundd',\n",
              " 'aroundmy',\n",
              " 'aroundwondering',\n",
              " 'arp',\n",
              " 'arrange',\n",
              " 'arreeyy',\n",
              " 'arrested',\n",
              " 'arrgh',\n",
              " 'arrivals',\n",
              " 'arrive',\n",
              " 'arrived',\n",
              " 'arrives',\n",
              " 'arrows',\n",
              " 'arse',\n",
              " 'arses',\n",
              " 'art',\n",
              " 'artemisrex',\n",
              " 'artfire',\n",
              " 'arthimeera',\n",
              " 'article',\n",
              " 'articles',\n",
              " 'artist',\n",
              " 'artistic',\n",
              " 'artistically',\n",
              " 'artistictime',\n",
              " 'artistwells',\n",
              " 'artworks',\n",
              " 'artytypes',\n",
              " 'asap',\n",
              " 'asda',\n",
              " 'aseemsood',\n",
              " 'ash',\n",
              " 'ashct',\n",
              " 'ashdie',\n",
              " 'ashh',\n",
              " 'ashies',\n",
              " 'ashleeadams',\n",
              " 'ashleyadriana',\n",
              " 'ashleynk',\n",
              " 'ashleyrusso',\n",
              " 'ashleysays',\n",
              " 'ashnash',\n",
              " 'ashton',\n",
              " 'ashtonteal',\n",
              " 'ashuchan',\n",
              " 'ashuhbot',\n",
              " 'ashumittal',\n",
              " 'ashvala',\n",
              " 'asia',\n",
              " 'asiago',\n",
              " 'asiam',\n",
              " 'asianpersuazion',\n",
              " 'aside',\n",
              " 'asisharabi',\n",
              " 'ask',\n",
              " 'askars',\n",
              " 'asked',\n",
              " 'asking',\n",
              " 'asks',\n",
              " 'asleeep',\n",
              " 'asleep',\n",
              " 'asleepand',\n",
              " 'asmodians',\n",
              " 'asommer',\n",
              " 'asosnat',\n",
              " 'aspaonline',\n",
              " 'aspect',\n",
              " 'asphyxiates',\n",
              " 'aspirations',\n",
              " 'aspire',\n",
              " 'aspired',\n",
              " 'aspiror',\n",
              " 'ass',\n",
              " 'assante',\n",
              " 'assault',\n",
              " 'asscancer',\n",
              " 'assembly',\n",
              " 'asses',\n",
              " 'assessments',\n",
              " 'asshattery',\n",
              " 'assignment',\n",
              " 'assignmentcelebrate',\n",
              " 'assist',\n",
              " 'assistant',\n",
              " 'asss',\n",
              " 'asssss',\n",
              " 'asst',\n",
              " 'assume',\n",
              " 'assured',\n",
              " 'assyness',\n",
              " 'astartiel',\n",
              " 'astovidiu',\n",
              " 'astro',\n",
              " 'asu',\n",
              " 'asurana',\n",
              " 'aswell',\n",
              " 'aswinanand',\n",
              " 'atampt',\n",
              " 'ate',\n",
              " 'atebits',\n",
              " 'athens',\n",
              " 'ativan',\n",
              " 'ativey',\n",
              " 'atl',\n",
              " 'atlanta',\n",
              " 'atleast',\n",
              " 'atm',\n",
              " 'atmosphere',\n",
              " 'atomickelli',\n",
              " 'atomictiki',\n",
              " 'atr',\n",
              " 'attached',\n",
              " 'attachments',\n",
              " 'attack',\n",
              " 'attacked',\n",
              " 'attackers',\n",
              " 'attempt',\n",
              " 'attempthi',\n",
              " 'attempting',\n",
              " 'attempts',\n",
              " 'attend',\n",
              " 'attendance',\n",
              " 'attendent',\n",
              " 'attending',\n",
              " 'attention',\n",
              " 'attitude',\n",
              " 'attitudee',\n",
              " 'attn',\n",
              " 'attorneyhogan',\n",
              " 'attraction',\n",
              " 'attractive',\n",
              " 'attractmode',\n",
              " 'atwood',\n",
              " 'atxggranados',\n",
              " 'au',\n",
              " 'aubrey',\n",
              " 'auction',\n",
              " 'auctionrebel',\n",
              " 'audience',\n",
              " 'audio',\n",
              " 'audiobooth',\n",
              " 'audited',\n",
              " 'audition',\n",
              " 'auditions',\n",
              " 'audrey',\n",
              " 'audrina',\n",
              " 'auf',\n",
              " 'aughmy',\n",
              " 'august',\n",
              " 'augustineiv',\n",
              " ...]"
            ]
          },
          "metadata": {},
          "execution_count": 50
        }
      ]
    },
    {
      "cell_type": "code",
      "metadata": {
        "id": "p44tTdjp-SoH"
      },
      "source": [
        "from sklearn.model_selection import train_test_split\n",
        "x_train, x_test, y_train, y_test = train_test_split(X, Y, test_size=0.2, random_state=0)"
      ],
      "execution_count": 51,
      "outputs": []
    },
    {
      "cell_type": "markdown",
      "source": [
        "<h1><b>MultinomialNB</b></h1>"
      ],
      "metadata": {
        "id": "gCw-qm6g7coN"
      }
    },
    {
      "cell_type": "code",
      "metadata": {
        "id": "B-Lola3oyZyn",
        "colab": {
          "base_uri": "https://localhost:8080/",
          "height": 0
        },
        "outputId": "0fc1a4fe-8037-4c27-e809-20f25ace2f9e"
      },
      "source": [
        "from sklearn.naive_bayes import MultinomialNB\n",
        "from sklearn.metrics import accuracy_score\n",
        "mnb = MultinomialNB()\n",
        "y_pred_mnb = mnb.fit(x_train, y_train).predict(x_test)\n",
        "print('Naive-Bayes Accuracy :',accuracy_score(y_test,y_pred_mnb)*100, '%')"
      ],
      "execution_count": 52,
      "outputs": [
        {
          "output_type": "stream",
          "name": "stdout",
          "text": [
            "Naive-Bayes Accuracy : 76.9 %\n"
          ]
        }
      ]
    },
    {
      "cell_type": "code",
      "metadata": {
        "id": "jN_k3euSzSpj",
        "colab": {
          "base_uri": "https://localhost:8080/",
          "height": 0
        },
        "outputId": "51cb7518-b844-4da5-e26e-6c0de02b2003"
      },
      "source": [
        "from sklearn.metrics import confusion_matrix\n",
        "confusion_matrix(y_test, y_pred_mnb)"
      ],
      "execution_count": 53,
      "outputs": [
        {
          "output_type": "execute_result",
          "data": {
            "text/plain": [
              "array([[787, 200],\n",
              "       [262, 751]])"
            ]
          },
          "metadata": {},
          "execution_count": 53
        }
      ]
    },
    {
      "cell_type": "code",
      "source": [
        "from sklearn.metrics import precision_score\n",
        "precision_mnb = precision_score(y_test,y_pred_mnb,average = None)\n",
        "print(precision_mnb)"
      ],
      "metadata": {
        "colab": {
          "base_uri": "https://localhost:8080/",
          "height": 0
        },
        "id": "ZIz0w8m65OS_",
        "outputId": "48537850-d88f-42d6-dbeb-e64d9c014e94"
      },
      "execution_count": 54,
      "outputs": [
        {
          "output_type": "stream",
          "name": "stdout",
          "text": [
            "[0.75023832 0.78969506]\n"
          ]
        }
      ]
    },
    {
      "cell_type": "code",
      "source": [
        "from sklearn.metrics import recall_score\n",
        "recall_mnb = recall_score(y_test,y_pred_mnb, average=None)\n",
        "print(recall_mnb)"
      ],
      "metadata": {
        "colab": {
          "base_uri": "https://localhost:8080/",
          "height": 0
        },
        "id": "odQSOumL6Kus",
        "outputId": "96c63cc8-1c30-4e6e-8656-15c734939654"
      },
      "execution_count": 55,
      "outputs": [
        {
          "output_type": "stream",
          "name": "stdout",
          "text": [
            "[0.79736575 0.74136229]\n"
          ]
        }
      ]
    },
    {
      "cell_type": "code",
      "source": [
        "from sklearn.metrics import f1_score\n",
        "f1_score_mnb = f1_score(y_test,y_pred_mnb,average=None)\n",
        "print(f1_score_mnb)"
      ],
      "metadata": {
        "colab": {
          "base_uri": "https://localhost:8080/",
          "height": 0
        },
        "id": "I2mtr94L30J0",
        "outputId": "6faabfd9-16e0-4d92-be54-d30f15c96542"
      },
      "execution_count": 56,
      "outputs": [
        {
          "output_type": "stream",
          "name": "stdout",
          "text": [
            "[0.77308448 0.76476578]\n"
          ]
        }
      ]
    },
    {
      "cell_type": "code",
      "source": [
        "from sklearn.metrics import classification_report\n",
        "print(classification_report(y_test, y_pred_mnb))"
      ],
      "metadata": {
        "colab": {
          "base_uri": "https://localhost:8080/",
          "height": 0
        },
        "id": "8F8PMCKC3bZO",
        "outputId": "fa3171bf-1259-40b5-9213-7b6f3d9d6af8"
      },
      "execution_count": 57,
      "outputs": [
        {
          "output_type": "stream",
          "name": "stdout",
          "text": [
            "              precision    recall  f1-score   support\n",
            "\n",
            "           0       0.75      0.80      0.77       987\n",
            "           4       0.79      0.74      0.76      1013\n",
            "\n",
            "    accuracy                           0.77      2000\n",
            "   macro avg       0.77      0.77      0.77      2000\n",
            "weighted avg       0.77      0.77      0.77      2000\n",
            "\n"
          ]
        }
      ]
    },
    {
      "cell_type": "markdown",
      "source": [
        "<h1><b>ComplementNB</b></h1>"
      ],
      "metadata": {
        "id": "ZsS6CEDU7mn-"
      }
    },
    {
      "cell_type": "code",
      "source": [
        "from sklearn.naive_bayes import ComplementNB\n",
        "cnb = ComplementNB()\n",
        "y_pred_cnb = cnb.fit(x_train, y_train).predict(x_test)\n",
        "print('Naive-Bayes Accuracy :',accuracy_score(y_test,y_pred_cnb)*100, '%')"
      ],
      "metadata": {
        "colab": {
          "base_uri": "https://localhost:8080/",
          "height": 0
        },
        "id": "3P6IOceLq9pH",
        "outputId": "c2999651-c936-48ca-cdff-8b00eb0beeb4"
      },
      "execution_count": 58,
      "outputs": [
        {
          "output_type": "stream",
          "name": "stdout",
          "text": [
            "Naive-Bayes Accuracy : 76.9 %\n"
          ]
        }
      ]
    },
    {
      "cell_type": "code",
      "source": [
        "from sklearn.metrics import confusion_matrix\n",
        "confusion_matrix(y_test, y_pred_cnb)"
      ],
      "metadata": {
        "colab": {
          "base_uri": "https://localhost:8080/",
          "height": 0
        },
        "id": "Rhca5S1vOYHO",
        "outputId": "fae3d633-599e-4819-da03-acfcf62212b2"
      },
      "execution_count": 59,
      "outputs": [
        {
          "output_type": "execute_result",
          "data": {
            "text/plain": [
              "array([[787, 200],\n",
              "       [262, 751]])"
            ]
          },
          "metadata": {},
          "execution_count": 59
        }
      ]
    },
    {
      "cell_type": "code",
      "source": [
        "from sklearn.metrics import precision_score\n",
        "precision_cnb = precision_score(y_test,y_pred_cnb,average = None)\n",
        "print(precision_cnb)"
      ],
      "metadata": {
        "colab": {
          "base_uri": "https://localhost:8080/",
          "height": 0
        },
        "id": "IPhWOLFJ8Wz1",
        "outputId": "b0976d6a-ca25-4c1a-e648-be4adf04fdac"
      },
      "execution_count": 60,
      "outputs": [
        {
          "output_type": "stream",
          "name": "stdout",
          "text": [
            "[0.75023832 0.78969506]\n"
          ]
        }
      ]
    },
    {
      "cell_type": "code",
      "source": [
        "from sklearn.metrics import recall_score\n",
        "recall_cnb = recall_score(y_test,y_pred_cnb, average=None)\n",
        "print(recall_cnb)"
      ],
      "metadata": {
        "colab": {
          "base_uri": "https://localhost:8080/",
          "height": 0
        },
        "id": "Buj_SLRZ71iS",
        "outputId": "a87ce518-b522-47f1-aaea-5885cdb3a851"
      },
      "execution_count": 61,
      "outputs": [
        {
          "output_type": "stream",
          "name": "stdout",
          "text": [
            "[0.79736575 0.74136229]\n"
          ]
        }
      ]
    },
    {
      "cell_type": "code",
      "source": [
        "from sklearn.metrics import f1_score\n",
        "f1_score_cnb = f1_score(y_test,y_pred_cnb,average=None)\n",
        "print(f1_score_cnb)"
      ],
      "metadata": {
        "colab": {
          "base_uri": "https://localhost:8080/",
          "height": 0
        },
        "id": "swi43XeQ8A9j",
        "outputId": "08ee17c5-f5a3-414a-81ec-39e001bfb245"
      },
      "execution_count": 62,
      "outputs": [
        {
          "output_type": "stream",
          "name": "stdout",
          "text": [
            "[0.77308448 0.76476578]\n"
          ]
        }
      ]
    },
    {
      "cell_type": "code",
      "source": [
        "from sklearn.metrics import classification_report\n",
        "print(classification_report(y_test, y_pred_cnb))"
      ],
      "metadata": {
        "colab": {
          "base_uri": "https://localhost:8080/",
          "height": 0
        },
        "id": "FWX5ELr18HHW",
        "outputId": "789c8950-de4b-433c-87c4-00028ec847a3"
      },
      "execution_count": 63,
      "outputs": [
        {
          "output_type": "stream",
          "name": "stdout",
          "text": [
            "              precision    recall  f1-score   support\n",
            "\n",
            "           0       0.75      0.80      0.77       987\n",
            "           4       0.79      0.74      0.76      1013\n",
            "\n",
            "    accuracy                           0.77      2000\n",
            "   macro avg       0.77      0.77      0.77      2000\n",
            "weighted avg       0.77      0.77      0.77      2000\n",
            "\n"
          ]
        }
      ]
    },
    {
      "cell_type": "markdown",
      "source": [
        "<h1><b>Logistic Regression</b></h1>"
      ],
      "metadata": {
        "id": "IeY3EHZ_7va-"
      }
    },
    {
      "cell_type": "code",
      "source": [
        "from sklearn.linear_model import LogisticRegression\n",
        "lr = LogisticRegression(max_iter=10000)\n",
        "y_pred_lr = lr.fit(x_train, y_train).predict(x_test)\n",
        "print('Linear Regression :',accuracy_score(y_test,y_pred_lr)*100, '%')"
      ],
      "metadata": {
        "colab": {
          "base_uri": "https://localhost:8080/",
          "height": 0
        },
        "id": "LryiKFbl8MY9",
        "outputId": "6ee6b944-a83e-413c-ae29-8cc001c95b78"
      },
      "execution_count": 64,
      "outputs": [
        {
          "output_type": "stream",
          "name": "stdout",
          "text": [
            "Linear Regression : 75.55 %\n"
          ]
        }
      ]
    },
    {
      "cell_type": "code",
      "source": [
        "from sklearn.metrics import confusion_matrix\n",
        "confusion_matrix(y_test, y_pred_lr)"
      ],
      "metadata": {
        "colab": {
          "base_uri": "https://localhost:8080/",
          "height": 0
        },
        "id": "FZxUOtBnORtI",
        "outputId": "9ccdadeb-85e7-4fcf-ee2b-c4288214c7e4"
      },
      "execution_count": 65,
      "outputs": [
        {
          "output_type": "execute_result",
          "data": {
            "text/plain": [
              "array([[734, 253],\n",
              "       [236, 777]])"
            ]
          },
          "metadata": {},
          "execution_count": 65
        }
      ]
    },
    {
      "cell_type": "code",
      "source": [
        "from sklearn.metrics import precision_score\n",
        "precision_lr = precision_score(y_test,y_pred_lr,average = None)\n",
        "print(precision_lr)"
      ],
      "metadata": {
        "colab": {
          "base_uri": "https://localhost:8080/",
          "height": 0
        },
        "id": "bagLysKI8j4f",
        "outputId": "b037fc12-8daf-43ea-b7f6-ecc7aae68782"
      },
      "execution_count": 66,
      "outputs": [
        {
          "output_type": "stream",
          "name": "stdout",
          "text": [
            "[0.75670103 0.75436893]\n"
          ]
        }
      ]
    },
    {
      "cell_type": "code",
      "source": [
        "from sklearn.metrics import recall_score\n",
        "recall_lr = recall_score(y_test,y_pred_cnb, average=None)\n",
        "print(recall_lr)"
      ],
      "metadata": {
        "colab": {
          "base_uri": "https://localhost:8080/",
          "height": 0
        },
        "id": "NbmA1mOZ8ZUd",
        "outputId": "a894bb4e-29f1-47e3-9bcd-490ab130546b"
      },
      "execution_count": 67,
      "outputs": [
        {
          "output_type": "stream",
          "name": "stdout",
          "text": [
            "[0.79736575 0.74136229]\n"
          ]
        }
      ]
    },
    {
      "cell_type": "code",
      "source": [
        "from sklearn.metrics import f1_score\n",
        "f1_score_lr = f1_score(y_test,y_pred_lr,average=None)\n",
        "print(f1_score_lr)"
      ],
      "metadata": {
        "colab": {
          "base_uri": "https://localhost:8080/",
          "height": 0
        },
        "id": "vt8vmty48h0n",
        "outputId": "ae218ecc-5b0a-45b4-e46f-76e08ad91a05"
      },
      "execution_count": 68,
      "outputs": [
        {
          "output_type": "stream",
          "name": "stdout",
          "text": [
            "[0.75012775 0.76064611]\n"
          ]
        }
      ]
    },
    {
      "cell_type": "code",
      "source": [
        "from sklearn.metrics import classification_report\n",
        "print(classification_report(y_test, y_pred_lr))"
      ],
      "metadata": {
        "colab": {
          "base_uri": "https://localhost:8080/",
          "height": 0
        },
        "id": "kb8LmxJr8kf8",
        "outputId": "6431b1d8-7681-4c98-8b43-2ecea8586e5a"
      },
      "execution_count": 69,
      "outputs": [
        {
          "output_type": "stream",
          "name": "stdout",
          "text": [
            "              precision    recall  f1-score   support\n",
            "\n",
            "           0       0.76      0.74      0.75       987\n",
            "           4       0.75      0.77      0.76      1013\n",
            "\n",
            "    accuracy                           0.76      2000\n",
            "   macro avg       0.76      0.76      0.76      2000\n",
            "weighted avg       0.76      0.76      0.76      2000\n",
            "\n"
          ]
        }
      ]
    },
    {
      "cell_type": "markdown",
      "source": [
        "<h1><b>Graphs</b></h1>"
      ],
      "metadata": {
        "id": "dZloC-lyKbf0"
      }
    },
    {
      "cell_type": "markdown",
      "source": [
        "Positive Sentiment"
      ],
      "metadata": {
        "id": "_jQRWOrNu_18"
      }
    },
    {
      "cell_type": "code",
      "source": [
        "import matplotlib.pyplot as plt\n",
        "import numpy as np\n",
        "\n",
        "data = [[precision_mnb[1] * 100 , precision_cnb[1] * 100, precision_lr[1] * 100],\n",
        "        [recall_mnb[1] * 100, recall_cnb[1] * 100,  recall_lr[1] * 100]]\n",
        "\n",
        "X = np.arange(3)\n",
        "fig = plt.figure()\n",
        "\n",
        "ax = fig.add_axes([0,0,1,1])\n",
        "ax.bar(X+0.00, data[0], color='b', width=0.25)\n",
        "ax.bar(X+0.25, data[1], color='g', width=0.25)\n",
        "plt.xticks([r + 0.25 for r in range(len(data[1]))], ['MultinomialNB', 'ComplementNB', 'Logistic Regression'])\n",
        "\n",
        "plt.xlabel('Classifiers')\n",
        "plt.ylabel('Percentage')\n",
        "\n",
        "#Blue is precision, Green is recall"
      ],
      "metadata": {
        "colab": {
          "base_uri": "https://localhost:8080/",
          "height": 367
        },
        "id": "in1OMH02lAVN",
        "outputId": "69082e86-ab86-4961-9067-1204ebf3b3d7"
      },
      "execution_count": 70,
      "outputs": [
        {
          "output_type": "execute_result",
          "data": {
            "text/plain": [
              "Text(0, 0.5, 'Percentage')"
            ]
          },
          "metadata": {},
          "execution_count": 70
        },
        {
          "output_type": "display_data",
          "data": {
            "image/png": "[encoded data removed]",
            "text/plain": [
              "<Figure size 432x288 with 1 Axes>"
            ]
          },
          "metadata": {
            "needs_background": "light"
          }
        }
      ]
    },
    {
      "cell_type": "markdown",
      "source": [
        "Negative Sentiment"
      ],
      "metadata": {
        "id": "xpqe2PxmvD1_"
      }
    },
    {
      "cell_type": "code",
      "source": [
        "data = [[precision_mnb[0] * 100 , precision_cnb[0] * 100, precision_lr[0] * 100],\n",
        "        [recall_mnb[0] * 100, recall_cnb[0] * 100,  recall_lr[0] * 100]]\n",
        "\n",
        "X = np.arange(3)\n",
        "fig = plt.figure()\n",
        "\n",
        "ax = fig.add_axes([0,0,1,1])\n",
        "ax.bar(X+0.00, data[0], color='r', width=0.25, label='Precision')\n",
        "ax.bar(X+0.25, data[1], color='y', width=0.25, label='Recall')\n",
        "plt.xticks([r + 0.25 for r in range(len(data[1]))], ['MultinomialNB', 'ComplementNB', 'Logistic Regression'])\n",
        "\n",
        "plt.xlabel('Classifiers')\n",
        "plt.ylabel('Percentage')"
      ],
      "metadata": {
        "colab": {
          "base_uri": "https://localhost:8080/",
          "height": 367
        },
        "id": "mYmbQt1BvDjH",
        "outputId": "903dd644-c48a-42e3-99bf-d2af7fe25300"
      },
      "execution_count": 71,
      "outputs": [
        {
          "output_type": "execute_result",
          "data": {
            "text/plain": [
              "Text(0, 0.5, 'Percentage')"
            ]
          },
          "metadata": {},
          "execution_count": 71
        },
        {
          "output_type": "display_data",
          "data": {
            "image/png": "[encoded data removed]",
            "text/plain": [
              "<Figure size 432x288 with 1 Axes>"
            ]
          },
          "metadata": {
            "needs_background": "light"
          }
        }
      ]
    },
    {
      "cell_type": "markdown",
      "source": [
        "So, here we can see that when precision increases, recall decreases."
      ],
      "metadata": {
        "id": "PvZV_LWiyJHO"
      }
    },
    {
      "cell_type": "markdown",
      "source": [
        "<h2><b>F1 score</b></h2>"
      ],
      "metadata": {
        "id": "fsyLq-uYyhU_"
      }
    },
    {
      "cell_type": "markdown",
      "source": [
        "F1 score is the harmonic progression between precision and recall.\n",
        "\n",
        "F1 score = (2 x Precision x Recall)/(Precision + Recall)"
      ],
      "metadata": {
        "id": "QxSvQdgZys_M"
      }
    },
    {
      "cell_type": "code",
      "source": [
        "data = [[f1_score_mnb[0] * 100 , f1_score_cnb[0] * 100, f1_score_lr[0] * 100],\n",
        "        [f1_score_mnb[1] * 100, f1_score_cnb[1] * 100,  f1_score_lr[1] * 100]]\n",
        "\n",
        "X = np.arange(3)\n",
        "fig = plt.figure()\n",
        "\n",
        "ax = fig.add_axes([0,0,1,1])\n",
        "ax.bar(X+0.00, data[0], color='black', width=0.25, label='Negative Sentiment')\n",
        "ax.bar(X+0.25, data[1], color='grey', width=0.25, label='Positive Sentiment')\n",
        "plt.xticks([r + 0.25 for r in range(len(data[1]))], ['MultinomialNB', 'ComplementNB', 'Logistic Regression'])\n",
        "\n",
        "plt.xlabel('Classifiers')\n",
        "plt.ylabel('Percentage')"
      ],
      "metadata": {
        "colab": {
          "base_uri": "https://localhost:8080/",
          "height": 367
        },
        "id": "2iVSG0BGyWhN",
        "outputId": "d8046b31-eff6-4994-a047-5919555e3adc"
      },
      "execution_count": 72,
      "outputs": [
        {
          "output_type": "execute_result",
          "data": {
            "text/plain": [
              "Text(0, 0.5, 'Percentage')"
            ]
          },
          "metadata": {},
          "execution_count": 72
        },
        {
          "output_type": "display_data",
          "data": {
            "image/png": "[encoded data removed]",
            "text/plain": [
              "<Figure size 432x288 with 1 Axes>"
            ]
          },
          "metadata": {
            "needs_background": "light"
          }
        }
      ]
    },
    {
      "cell_type": "markdown",
      "source": [
        "<h1><b>Testing with sentences</b></h1>"
      ],
      "metadata": {
        "id": "Lq7p2NPB0vwB"
      }
    },
    {
      "cell_type": "code",
      "source": [
        "a = ['i like it']\n",
        "a = countvector.transform(a)\n",
        "print(a[0].toarray())\n",
        "prediction = mnb.fit(x_train,y_train).predict(a)\n",
        "prediction"
      ],
      "metadata": {
        "colab": {
          "base_uri": "https://localhost:8080/",
          "height": 0
        },
        "id": "OiAQugySZOxm",
        "outputId": "c938ec64-1efc-42d9-ea28-22c55fdfb11a"
      },
      "execution_count": 104,
      "outputs": [
        {
          "output_type": "stream",
          "name": "stdout",
          "text": [
            "[[0 0 0 ... 0 0 0]]\n"
          ]
        },
        {
          "output_type": "execute_result",
          "data": {
            "text/plain": [
              "array([4])"
            ]
          },
          "metadata": {},
          "execution_count": 104
        }
      ]
    },
    {
      "cell_type": "code",
      "source": [
        "a = ['i dislike it']\n",
        "a = countvector.transform(a)\n",
        "print(a[0].toarray())\n",
        "prediction = mnb.fit(x_train,y_train).predict(a)\n",
        "prediction"
      ],
      "metadata": {
        "colab": {
          "base_uri": "https://localhost:8080/",
          "height": 0
        },
        "id": "FjEyPnID0j6J",
        "outputId": "e8eb9add-396e-49eb-a3e7-11a5e9d96fd2"
      },
      "execution_count": 105,
      "outputs": [
        {
          "output_type": "stream",
          "name": "stdout",
          "text": [
            "[[0 0 0 ... 0 0 0]]\n"
          ]
        },
        {
          "output_type": "execute_result",
          "data": {
            "text/plain": [
              "array([0])"
            ]
          },
          "metadata": {},
          "execution_count": 105
        }
      ]
    }
  ]
}